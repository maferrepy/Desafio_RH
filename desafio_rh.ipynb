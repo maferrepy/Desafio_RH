{
  "nbformat": 4,
  "nbformat_minor": 0,
  "metadata": {
    "colab": {
      "provenance": [],
      "authorship_tag": "ABX9TyOubu8SMLw9xsD6lVZTIkGr",
      "include_colab_link": true
    },
    "kernelspec": {
      "name": "python3",
      "display_name": "Python 3"
    },
    "language_info": {
      "name": "python"
    }
  },
  "cells": [
    {
      "cell_type": "markdown",
      "metadata": {
        "id": "view-in-github",
        "colab_type": "text"
      },
      "source": [
        "<a href=\"https://colab.research.google.com/github/maferrepy/Desafio_RH/blob/main/desafio_rh.ipynb\" target=\"_parent\"><img src=\"https://colab.research.google.com/assets/colab-badge.svg\" alt=\"Open In Colab\"/></a>"
      ]
    },
    {
      "cell_type": "code",
      "source": [
        "import pandas as pd\n",
        "import matplotlib.pyplot as plt\n",
        "import matplotlib.pyplot as plt\n",
        "import seaborn as sns\n",
        "from datetime import datetime\n",
        "import numpy as np\n"
      ],
      "metadata": {
        "id": "us4XTZs_i5vm"
      },
      "execution_count": 7,
      "outputs": []
    },
    {
      "cell_type": "code",
      "source": [
        "df = pd.read_excel('/content/sample_data/Base_dados - Rotatividade RH.xlsx')"
      ],
      "metadata": {
        "id": "_elkGEWitMtS"
      },
      "execution_count": 8,
      "outputs": []
    },
    {
      "cell_type": "markdown",
      "source": [
        "# Visualizando os Dados"
      ],
      "metadata": {
        "id": "KHsbO-zhQjIq"
      }
    },
    {
      "cell_type": "code",
      "source": [],
      "metadata": {
        "id": "wM4G4i80XgBE"
      },
      "execution_count": 8,
      "outputs": []
    },
    {
      "cell_type": "code",
      "source": [
        "def atualizar_data_desligamento(df):\n",
        "    hoje = pd.to_datetime(datetime.today().date())\n",
        "    df['Data_Desligamento'].fillna(hoje, inplace=True)\n",
        "\n",
        "\n",
        "atualizar_data_desligamento(df)\n",
        "\n",
        "\n",
        "df.head()"
      ],
      "metadata": {
        "colab": {
          "base_uri": "https://localhost:8080/",
          "height": 226
        },
        "id": "0OxteLJJVkms",
        "outputId": "a5a5cdf3-729d-480d-d03d-cc3f29d275e9"
      },
      "execution_count": 9,
      "outputs": [
        {
          "output_type": "execute_result",
          "data": {
            "text/plain": [
              "  Data_Contratacao Data_Desligamento  Meses_de_Servico  Idade  \\\n",
              "0       2024-02-14        2024-05-22                 3     24   \n",
              "1       2023-11-16        2024-05-14                 6     43   \n",
              "2       2023-11-16        2024-05-22                 6     45   \n",
              "3       2023-05-20        2024-05-22                12     31   \n",
              "4       2022-07-24        2024-05-22                22     37   \n",
              "\n",
              "   Pontuacao_Desempenho  Satisfacao_Trabalho Nivel_Cargo  Salario  \\\n",
              "0              2.066788             2.043644       Pleno  4994.41   \n",
              "1              3.256257             1.711719      Sênior  8798.34   \n",
              "2              4.827732             3.480214      Sênior  8891.02   \n",
              "3              1.453944             1.617558       Pleno  7606.22   \n",
              "4              2.088917             2.763390      Sênior  9236.03   \n",
              "\n",
              "   Horas_Extras  Desligamento  \n",
              "0     15.465241             0  \n",
              "1     19.036627             1  \n",
              "2     13.326408             0  \n",
              "3     14.209663             0  \n",
              "4     11.059687             0  "
            ],
            "text/html": [
              "\n",
              "  <div id=\"df-5d54253c-23e6-476d-916e-6e81ddec5632\" class=\"colab-df-container\">\n",
              "    <div>\n",
              "<style scoped>\n",
              "    .dataframe tbody tr th:only-of-type {\n",
              "        vertical-align: middle;\n",
              "    }\n",
              "\n",
              "    .dataframe tbody tr th {\n",
              "        vertical-align: top;\n",
              "    }\n",
              "\n",
              "    .dataframe thead th {\n",
              "        text-align: right;\n",
              "    }\n",
              "</style>\n",
              "<table border=\"1\" class=\"dataframe\">\n",
              "  <thead>\n",
              "    <tr style=\"text-align: right;\">\n",
              "      <th></th>\n",
              "      <th>Data_Contratacao</th>\n",
              "      <th>Data_Desligamento</th>\n",
              "      <th>Meses_de_Servico</th>\n",
              "      <th>Idade</th>\n",
              "      <th>Pontuacao_Desempenho</th>\n",
              "      <th>Satisfacao_Trabalho</th>\n",
              "      <th>Nivel_Cargo</th>\n",
              "      <th>Salario</th>\n",
              "      <th>Horas_Extras</th>\n",
              "      <th>Desligamento</th>\n",
              "    </tr>\n",
              "  </thead>\n",
              "  <tbody>\n",
              "    <tr>\n",
              "      <th>0</th>\n",
              "      <td>2024-02-14</td>\n",
              "      <td>2024-05-22</td>\n",
              "      <td>3</td>\n",
              "      <td>24</td>\n",
              "      <td>2.066788</td>\n",
              "      <td>2.043644</td>\n",
              "      <td>Pleno</td>\n",
              "      <td>4994.41</td>\n",
              "      <td>15.465241</td>\n",
              "      <td>0</td>\n",
              "    </tr>\n",
              "    <tr>\n",
              "      <th>1</th>\n",
              "      <td>2023-11-16</td>\n",
              "      <td>2024-05-14</td>\n",
              "      <td>6</td>\n",
              "      <td>43</td>\n",
              "      <td>3.256257</td>\n",
              "      <td>1.711719</td>\n",
              "      <td>Sênior</td>\n",
              "      <td>8798.34</td>\n",
              "      <td>19.036627</td>\n",
              "      <td>1</td>\n",
              "    </tr>\n",
              "    <tr>\n",
              "      <th>2</th>\n",
              "      <td>2023-11-16</td>\n",
              "      <td>2024-05-22</td>\n",
              "      <td>6</td>\n",
              "      <td>45</td>\n",
              "      <td>4.827732</td>\n",
              "      <td>3.480214</td>\n",
              "      <td>Sênior</td>\n",
              "      <td>8891.02</td>\n",
              "      <td>13.326408</td>\n",
              "      <td>0</td>\n",
              "    </tr>\n",
              "    <tr>\n",
              "      <th>3</th>\n",
              "      <td>2023-05-20</td>\n",
              "      <td>2024-05-22</td>\n",
              "      <td>12</td>\n",
              "      <td>31</td>\n",
              "      <td>1.453944</td>\n",
              "      <td>1.617558</td>\n",
              "      <td>Pleno</td>\n",
              "      <td>7606.22</td>\n",
              "      <td>14.209663</td>\n",
              "      <td>0</td>\n",
              "    </tr>\n",
              "    <tr>\n",
              "      <th>4</th>\n",
              "      <td>2022-07-24</td>\n",
              "      <td>2024-05-22</td>\n",
              "      <td>22</td>\n",
              "      <td>37</td>\n",
              "      <td>2.088917</td>\n",
              "      <td>2.763390</td>\n",
              "      <td>Sênior</td>\n",
              "      <td>9236.03</td>\n",
              "      <td>11.059687</td>\n",
              "      <td>0</td>\n",
              "    </tr>\n",
              "  </tbody>\n",
              "</table>\n",
              "</div>\n",
              "    <div class=\"colab-df-buttons\">\n",
              "\n",
              "  <div class=\"colab-df-container\">\n",
              "    <button class=\"colab-df-convert\" onclick=\"convertToInteractive('df-5d54253c-23e6-476d-916e-6e81ddec5632')\"\n",
              "            title=\"Convert this dataframe to an interactive table.\"\n",
              "            style=\"display:none;\">\n",
              "\n",
              "  <svg xmlns=\"http://www.w3.org/2000/svg\" height=\"24px\" viewBox=\"0 -960 960 960\">\n",
              "    <path d=\"M120-120v-720h720v720H120Zm60-500h600v-160H180v160Zm220 220h160v-160H400v160Zm0 220h160v-160H400v160ZM180-400h160v-160H180v160Zm440 0h160v-160H620v160ZM180-180h160v-160H180v160Zm440 0h160v-160H620v160Z\"/>\n",
              "  </svg>\n",
              "    </button>\n",
              "\n",
              "  <style>\n",
              "    .colab-df-container {\n",
              "      display:flex;\n",
              "      gap: 12px;\n",
              "    }\n",
              "\n",
              "    .colab-df-convert {\n",
              "      background-color: #E8F0FE;\n",
              "      border: none;\n",
              "      border-radius: 50%;\n",
              "      cursor: pointer;\n",
              "      display: none;\n",
              "      fill: #1967D2;\n",
              "      height: 32px;\n",
              "      padding: 0 0 0 0;\n",
              "      width: 32px;\n",
              "    }\n",
              "\n",
              "    .colab-df-convert:hover {\n",
              "      background-color: #E2EBFA;\n",
              "      box-shadow: 0px 1px 2px rgba(60, 64, 67, 0.3), 0px 1px 3px 1px rgba(60, 64, 67, 0.15);\n",
              "      fill: #174EA6;\n",
              "    }\n",
              "\n",
              "    .colab-df-buttons div {\n",
              "      margin-bottom: 4px;\n",
              "    }\n",
              "\n",
              "    [theme=dark] .colab-df-convert {\n",
              "      background-color: #3B4455;\n",
              "      fill: #D2E3FC;\n",
              "    }\n",
              "\n",
              "    [theme=dark] .colab-df-convert:hover {\n",
              "      background-color: #434B5C;\n",
              "      box-shadow: 0px 1px 3px 1px rgba(0, 0, 0, 0.15);\n",
              "      filter: drop-shadow(0px 1px 2px rgba(0, 0, 0, 0.3));\n",
              "      fill: #FFFFFF;\n",
              "    }\n",
              "  </style>\n",
              "\n",
              "    <script>\n",
              "      const buttonEl =\n",
              "        document.querySelector('#df-5d54253c-23e6-476d-916e-6e81ddec5632 button.colab-df-convert');\n",
              "      buttonEl.style.display =\n",
              "        google.colab.kernel.accessAllowed ? 'block' : 'none';\n",
              "\n",
              "      async function convertToInteractive(key) {\n",
              "        const element = document.querySelector('#df-5d54253c-23e6-476d-916e-6e81ddec5632');\n",
              "        const dataTable =\n",
              "          await google.colab.kernel.invokeFunction('convertToInteractive',\n",
              "                                                    [key], {});\n",
              "        if (!dataTable) return;\n",
              "\n",
              "        const docLinkHtml = 'Like what you see? Visit the ' +\n",
              "          '<a target=\"_blank\" href=https://colab.research.google.com/notebooks/data_table.ipynb>data table notebook</a>'\n",
              "          + ' to learn more about interactive tables.';\n",
              "        element.innerHTML = '';\n",
              "        dataTable['output_type'] = 'display_data';\n",
              "        await google.colab.output.renderOutput(dataTable, element);\n",
              "        const docLink = document.createElement('div');\n",
              "        docLink.innerHTML = docLinkHtml;\n",
              "        element.appendChild(docLink);\n",
              "      }\n",
              "    </script>\n",
              "  </div>\n",
              "\n",
              "\n",
              "<div id=\"df-4b2be7c9-6b15-416f-b11a-ed9aeb764d9f\">\n",
              "  <button class=\"colab-df-quickchart\" onclick=\"quickchart('df-4b2be7c9-6b15-416f-b11a-ed9aeb764d9f')\"\n",
              "            title=\"Suggest charts\"\n",
              "            style=\"display:none;\">\n",
              "\n",
              "<svg xmlns=\"http://www.w3.org/2000/svg\" height=\"24px\"viewBox=\"0 0 24 24\"\n",
              "     width=\"24px\">\n",
              "    <g>\n",
              "        <path d=\"M19 3H5c-1.1 0-2 .9-2 2v14c0 1.1.9 2 2 2h14c1.1 0 2-.9 2-2V5c0-1.1-.9-2-2-2zM9 17H7v-7h2v7zm4 0h-2V7h2v10zm4 0h-2v-4h2v4z\"/>\n",
              "    </g>\n",
              "</svg>\n",
              "  </button>\n",
              "\n",
              "<style>\n",
              "  .colab-df-quickchart {\n",
              "      --bg-color: #E8F0FE;\n",
              "      --fill-color: #1967D2;\n",
              "      --hover-bg-color: #E2EBFA;\n",
              "      --hover-fill-color: #174EA6;\n",
              "      --disabled-fill-color: #AAA;\n",
              "      --disabled-bg-color: #DDD;\n",
              "  }\n",
              "\n",
              "  [theme=dark] .colab-df-quickchart {\n",
              "      --bg-color: #3B4455;\n",
              "      --fill-color: #D2E3FC;\n",
              "      --hover-bg-color: #434B5C;\n",
              "      --hover-fill-color: #FFFFFF;\n",
              "      --disabled-bg-color: #3B4455;\n",
              "      --disabled-fill-color: #666;\n",
              "  }\n",
              "\n",
              "  .colab-df-quickchart {\n",
              "    background-color: var(--bg-color);\n",
              "    border: none;\n",
              "    border-radius: 50%;\n",
              "    cursor: pointer;\n",
              "    display: none;\n",
              "    fill: var(--fill-color);\n",
              "    height: 32px;\n",
              "    padding: 0;\n",
              "    width: 32px;\n",
              "  }\n",
              "\n",
              "  .colab-df-quickchart:hover {\n",
              "    background-color: var(--hover-bg-color);\n",
              "    box-shadow: 0 1px 2px rgba(60, 64, 67, 0.3), 0 1px 3px 1px rgba(60, 64, 67, 0.15);\n",
              "    fill: var(--button-hover-fill-color);\n",
              "  }\n",
              "\n",
              "  .colab-df-quickchart-complete:disabled,\n",
              "  .colab-df-quickchart-complete:disabled:hover {\n",
              "    background-color: var(--disabled-bg-color);\n",
              "    fill: var(--disabled-fill-color);\n",
              "    box-shadow: none;\n",
              "  }\n",
              "\n",
              "  .colab-df-spinner {\n",
              "    border: 2px solid var(--fill-color);\n",
              "    border-color: transparent;\n",
              "    border-bottom-color: var(--fill-color);\n",
              "    animation:\n",
              "      spin 1s steps(1) infinite;\n",
              "  }\n",
              "\n",
              "  @keyframes spin {\n",
              "    0% {\n",
              "      border-color: transparent;\n",
              "      border-bottom-color: var(--fill-color);\n",
              "      border-left-color: var(--fill-color);\n",
              "    }\n",
              "    20% {\n",
              "      border-color: transparent;\n",
              "      border-left-color: var(--fill-color);\n",
              "      border-top-color: var(--fill-color);\n",
              "    }\n",
              "    30% {\n",
              "      border-color: transparent;\n",
              "      border-left-color: var(--fill-color);\n",
              "      border-top-color: var(--fill-color);\n",
              "      border-right-color: var(--fill-color);\n",
              "    }\n",
              "    40% {\n",
              "      border-color: transparent;\n",
              "      border-right-color: var(--fill-color);\n",
              "      border-top-color: var(--fill-color);\n",
              "    }\n",
              "    60% {\n",
              "      border-color: transparent;\n",
              "      border-right-color: var(--fill-color);\n",
              "    }\n",
              "    80% {\n",
              "      border-color: transparent;\n",
              "      border-right-color: var(--fill-color);\n",
              "      border-bottom-color: var(--fill-color);\n",
              "    }\n",
              "    90% {\n",
              "      border-color: transparent;\n",
              "      border-bottom-color: var(--fill-color);\n",
              "    }\n",
              "  }\n",
              "</style>\n",
              "\n",
              "  <script>\n",
              "    async function quickchart(key) {\n",
              "      const quickchartButtonEl =\n",
              "        document.querySelector('#' + key + ' button');\n",
              "      quickchartButtonEl.disabled = true;  // To prevent multiple clicks.\n",
              "      quickchartButtonEl.classList.add('colab-df-spinner');\n",
              "      try {\n",
              "        const charts = await google.colab.kernel.invokeFunction(\n",
              "            'suggestCharts', [key], {});\n",
              "      } catch (error) {\n",
              "        console.error('Error during call to suggestCharts:', error);\n",
              "      }\n",
              "      quickchartButtonEl.classList.remove('colab-df-spinner');\n",
              "      quickchartButtonEl.classList.add('colab-df-quickchart-complete');\n",
              "    }\n",
              "    (() => {\n",
              "      let quickchartButtonEl =\n",
              "        document.querySelector('#df-4b2be7c9-6b15-416f-b11a-ed9aeb764d9f button');\n",
              "      quickchartButtonEl.style.display =\n",
              "        google.colab.kernel.accessAllowed ? 'block' : 'none';\n",
              "    })();\n",
              "  </script>\n",
              "</div>\n",
              "\n",
              "    </div>\n",
              "  </div>\n"
            ],
            "application/vnd.google.colaboratory.intrinsic+json": {
              "type": "dataframe",
              "variable_name": "df",
              "summary": "{\n  \"name\": \"df\",\n  \"rows\": 650,\n  \"fields\": [\n    {\n      \"column\": \"Data_Contratacao\",\n      \"properties\": {\n        \"dtype\": \"date\",\n        \"min\": \"2021-06-29 00:00:00\",\n        \"max\": \"2024-02-14 00:00:00\",\n        \"num_unique_values\": 33,\n        \"samples\": [\n          \"2021-12-26 00:00:00\",\n          \"2022-10-22 00:00:00\",\n          \"2023-10-17 00:00:00\"\n        ],\n        \"semantic_type\": \"\",\n        \"description\": \"\"\n      }\n    },\n    {\n      \"column\": \"Data_Desligamento\",\n      \"properties\": {\n        \"dtype\": \"date\",\n        \"min\": \"2024-05-14 00:00:00\",\n        \"max\": \"2024-05-22 00:00:00\",\n        \"num_unique_values\": 2,\n        \"samples\": [\n          \"2024-05-14 00:00:00\",\n          \"2024-05-22 00:00:00\"\n        ],\n        \"semantic_type\": \"\",\n        \"description\": \"\"\n      }\n    },\n    {\n      \"column\": \"Meses_de_Servico\",\n      \"properties\": {\n        \"dtype\": \"number\",\n        \"std\": 9,\n        \"min\": 3,\n        \"max\": 35,\n        \"num_unique_values\": 33,\n        \"samples\": [\n          29,\n          19\n        ],\n        \"semantic_type\": \"\",\n        \"description\": \"\"\n      }\n    },\n    {\n      \"column\": \"Idade\",\n      \"properties\": {\n        \"dtype\": \"number\",\n        \"std\": 8,\n        \"min\": 18,\n        \"max\": 49,\n        \"num_unique_values\": 32,\n        \"samples\": [\n          46,\n          19\n        ],\n        \"semantic_type\": \"\",\n        \"description\": \"\"\n      }\n    },\n    {\n      \"column\": \"Pontuacao_Desempenho\",\n      \"properties\": {\n        \"dtype\": \"number\",\n        \"std\": 1.1742257663024125,\n        \"min\": 1.00024227440041,\n        \"max\": 4.992101944794591,\n        \"num_unique_values\": 650,\n        \"samples\": [\n          1.776232354587129,\n          3.183670385871618\n        ],\n        \"semantic_type\": \"\",\n        \"description\": \"\"\n      }\n    },\n    {\n      \"column\": \"Satisfacao_Trabalho\",\n      \"properties\": {\n        \"dtype\": \"number\",\n        \"std\": 1.1485135122207797,\n        \"min\": 1.002867838334448,\n        \"max\": 4.999415312180092,\n        \"num_unique_values\": 650,\n        \"samples\": [\n          2.278370365525132,\n          3.87787648985609\n        ],\n        \"semantic_type\": \"\",\n        \"description\": \"\"\n      }\n    },\n    {\n      \"column\": \"Nivel_Cargo\",\n      \"properties\": {\n        \"dtype\": \"category\",\n        \"num_unique_values\": 3,\n        \"samples\": [\n          \"Pleno\",\n          \"S\\u00eanior\"\n        ],\n        \"semantic_type\": \"\",\n        \"description\": \"\"\n      }\n    },\n    {\n      \"column\": \"Salario\",\n      \"properties\": {\n        \"dtype\": \"number\",\n        \"std\": 2689.0755663526515,\n        \"min\": 2004.5,\n        \"max\": 11957.29,\n        \"num_unique_values\": 650,\n        \"samples\": [\n          4198.6,\n          2049.17\n        ],\n        \"semantic_type\": \"\",\n        \"description\": \"\"\n      }\n    },\n    {\n      \"column\": \"Horas_Extras\",\n      \"properties\": {\n        \"dtype\": \"number\",\n        \"std\": 6.2424059169434845,\n        \"min\": 0.00373427865018261,\n        \"max\": 41.63835000353,\n        \"num_unique_values\": 540,\n        \"samples\": [\n          14.0483468050593,\n          8.997593368136279\n        ],\n        \"semantic_type\": \"\",\n        \"description\": \"\"\n      }\n    },\n    {\n      \"column\": \"Desligamento\",\n      \"properties\": {\n        \"dtype\": \"number\",\n        \"std\": 0,\n        \"min\": 0,\n        \"max\": 1,\n        \"num_unique_values\": 2,\n        \"samples\": [\n          1,\n          0\n        ],\n        \"semantic_type\": \"\",\n        \"description\": \"\"\n      }\n    }\n  ]\n}"
            }
          },
          "metadata": {},
          "execution_count": 9
        }
      ]
    },
    {
      "cell_type": "code",
      "source": [
        "df['Horas_Extras'] = df['Horas_Extras'].round()"
      ],
      "metadata": {
        "id": "n7nOFpcWYM3A"
      },
      "execution_count": 10,
      "outputs": []
    },
    {
      "cell_type": "code",
      "source": [],
      "metadata": {
        "id": "HQ2xwqM4TYQ2"
      },
      "execution_count": 10,
      "outputs": []
    },
    {
      "cell_type": "code",
      "source": [
        "df_senior = df[df['Nivel_Cargo'] == 'Sênior']"
      ],
      "metadata": {
        "id": "m9Rl1OYASLad"
      },
      "execution_count": 11,
      "outputs": []
    },
    {
      "cell_type": "code",
      "source": [
        "df_senior.head()"
      ],
      "metadata": {
        "colab": {
          "base_uri": "https://localhost:8080/",
          "height": 226
        },
        "id": "n0AfecfSS1yG",
        "outputId": "2e60fb4b-f665-4724-a9db-0ccf18feedbd"
      },
      "execution_count": 12,
      "outputs": [
        {
          "output_type": "execute_result",
          "data": {
            "text/plain": [
              "  Data_Contratacao Data_Desligamento  Meses_de_Servico  Idade  \\\n",
              "1       2023-11-16        2024-05-14                 6     43   \n",
              "2       2023-11-16        2024-05-22                 6     45   \n",
              "4       2022-07-24        2024-05-22                22     37   \n",
              "5       2022-05-25        2024-05-14                24     43   \n",
              "8       2022-02-24        2024-05-22                27     44   \n",
              "\n",
              "   Pontuacao_Desempenho  Satisfacao_Trabalho Nivel_Cargo   Salario  \\\n",
              "1              3.256257             1.711719      Sênior   8798.34   \n",
              "2              4.827732             3.480214      Sênior   8891.02   \n",
              "4              2.088917             2.763390      Sênior   9236.03   \n",
              "5              4.328231             3.209761      Sênior  10466.00   \n",
              "8              1.549005             2.067783      Sênior   7780.41   \n",
              "\n",
              "   Horas_Extras  Desligamento  \n",
              "1          19.0             1  \n",
              "2          13.0             0  \n",
              "4          11.0             0  \n",
              "5          14.0             1  \n",
              "8           2.0             0  "
            ],
            "text/html": [
              "\n",
              "  <div id=\"df-6fea54f9-aaf8-4d67-971a-f179b68874ab\" class=\"colab-df-container\">\n",
              "    <div>\n",
              "<style scoped>\n",
              "    .dataframe tbody tr th:only-of-type {\n",
              "        vertical-align: middle;\n",
              "    }\n",
              "\n",
              "    .dataframe tbody tr th {\n",
              "        vertical-align: top;\n",
              "    }\n",
              "\n",
              "    .dataframe thead th {\n",
              "        text-align: right;\n",
              "    }\n",
              "</style>\n",
              "<table border=\"1\" class=\"dataframe\">\n",
              "  <thead>\n",
              "    <tr style=\"text-align: right;\">\n",
              "      <th></th>\n",
              "      <th>Data_Contratacao</th>\n",
              "      <th>Data_Desligamento</th>\n",
              "      <th>Meses_de_Servico</th>\n",
              "      <th>Idade</th>\n",
              "      <th>Pontuacao_Desempenho</th>\n",
              "      <th>Satisfacao_Trabalho</th>\n",
              "      <th>Nivel_Cargo</th>\n",
              "      <th>Salario</th>\n",
              "      <th>Horas_Extras</th>\n",
              "      <th>Desligamento</th>\n",
              "    </tr>\n",
              "  </thead>\n",
              "  <tbody>\n",
              "    <tr>\n",
              "      <th>1</th>\n",
              "      <td>2023-11-16</td>\n",
              "      <td>2024-05-14</td>\n",
              "      <td>6</td>\n",
              "      <td>43</td>\n",
              "      <td>3.256257</td>\n",
              "      <td>1.711719</td>\n",
              "      <td>Sênior</td>\n",
              "      <td>8798.34</td>\n",
              "      <td>19.0</td>\n",
              "      <td>1</td>\n",
              "    </tr>\n",
              "    <tr>\n",
              "      <th>2</th>\n",
              "      <td>2023-11-16</td>\n",
              "      <td>2024-05-22</td>\n",
              "      <td>6</td>\n",
              "      <td>45</td>\n",
              "      <td>4.827732</td>\n",
              "      <td>3.480214</td>\n",
              "      <td>Sênior</td>\n",
              "      <td>8891.02</td>\n",
              "      <td>13.0</td>\n",
              "      <td>0</td>\n",
              "    </tr>\n",
              "    <tr>\n",
              "      <th>4</th>\n",
              "      <td>2022-07-24</td>\n",
              "      <td>2024-05-22</td>\n",
              "      <td>22</td>\n",
              "      <td>37</td>\n",
              "      <td>2.088917</td>\n",
              "      <td>2.763390</td>\n",
              "      <td>Sênior</td>\n",
              "      <td>9236.03</td>\n",
              "      <td>11.0</td>\n",
              "      <td>0</td>\n",
              "    </tr>\n",
              "    <tr>\n",
              "      <th>5</th>\n",
              "      <td>2022-05-25</td>\n",
              "      <td>2024-05-14</td>\n",
              "      <td>24</td>\n",
              "      <td>43</td>\n",
              "      <td>4.328231</td>\n",
              "      <td>3.209761</td>\n",
              "      <td>Sênior</td>\n",
              "      <td>10466.00</td>\n",
              "      <td>14.0</td>\n",
              "      <td>1</td>\n",
              "    </tr>\n",
              "    <tr>\n",
              "      <th>8</th>\n",
              "      <td>2022-02-24</td>\n",
              "      <td>2024-05-22</td>\n",
              "      <td>27</td>\n",
              "      <td>44</td>\n",
              "      <td>1.549005</td>\n",
              "      <td>2.067783</td>\n",
              "      <td>Sênior</td>\n",
              "      <td>7780.41</td>\n",
              "      <td>2.0</td>\n",
              "      <td>0</td>\n",
              "    </tr>\n",
              "  </tbody>\n",
              "</table>\n",
              "</div>\n",
              "    <div class=\"colab-df-buttons\">\n",
              "\n",
              "  <div class=\"colab-df-container\">\n",
              "    <button class=\"colab-df-convert\" onclick=\"convertToInteractive('df-6fea54f9-aaf8-4d67-971a-f179b68874ab')\"\n",
              "            title=\"Convert this dataframe to an interactive table.\"\n",
              "            style=\"display:none;\">\n",
              "\n",
              "  <svg xmlns=\"http://www.w3.org/2000/svg\" height=\"24px\" viewBox=\"0 -960 960 960\">\n",
              "    <path d=\"M120-120v-720h720v720H120Zm60-500h600v-160H180v160Zm220 220h160v-160H400v160Zm0 220h160v-160H400v160ZM180-400h160v-160H180v160Zm440 0h160v-160H620v160ZM180-180h160v-160H180v160Zm440 0h160v-160H620v160Z\"/>\n",
              "  </svg>\n",
              "    </button>\n",
              "\n",
              "  <style>\n",
              "    .colab-df-container {\n",
              "      display:flex;\n",
              "      gap: 12px;\n",
              "    }\n",
              "\n",
              "    .colab-df-convert {\n",
              "      background-color: #E8F0FE;\n",
              "      border: none;\n",
              "      border-radius: 50%;\n",
              "      cursor: pointer;\n",
              "      display: none;\n",
              "      fill: #1967D2;\n",
              "      height: 32px;\n",
              "      padding: 0 0 0 0;\n",
              "      width: 32px;\n",
              "    }\n",
              "\n",
              "    .colab-df-convert:hover {\n",
              "      background-color: #E2EBFA;\n",
              "      box-shadow: 0px 1px 2px rgba(60, 64, 67, 0.3), 0px 1px 3px 1px rgba(60, 64, 67, 0.15);\n",
              "      fill: #174EA6;\n",
              "    }\n",
              "\n",
              "    .colab-df-buttons div {\n",
              "      margin-bottom: 4px;\n",
              "    }\n",
              "\n",
              "    [theme=dark] .colab-df-convert {\n",
              "      background-color: #3B4455;\n",
              "      fill: #D2E3FC;\n",
              "    }\n",
              "\n",
              "    [theme=dark] .colab-df-convert:hover {\n",
              "      background-color: #434B5C;\n",
              "      box-shadow: 0px 1px 3px 1px rgba(0, 0, 0, 0.15);\n",
              "      filter: drop-shadow(0px 1px 2px rgba(0, 0, 0, 0.3));\n",
              "      fill: #FFFFFF;\n",
              "    }\n",
              "  </style>\n",
              "\n",
              "    <script>\n",
              "      const buttonEl =\n",
              "        document.querySelector('#df-6fea54f9-aaf8-4d67-971a-f179b68874ab button.colab-df-convert');\n",
              "      buttonEl.style.display =\n",
              "        google.colab.kernel.accessAllowed ? 'block' : 'none';\n",
              "\n",
              "      async function convertToInteractive(key) {\n",
              "        const element = document.querySelector('#df-6fea54f9-aaf8-4d67-971a-f179b68874ab');\n",
              "        const dataTable =\n",
              "          await google.colab.kernel.invokeFunction('convertToInteractive',\n",
              "                                                    [key], {});\n",
              "        if (!dataTable) return;\n",
              "\n",
              "        const docLinkHtml = 'Like what you see? Visit the ' +\n",
              "          '<a target=\"_blank\" href=https://colab.research.google.com/notebooks/data_table.ipynb>data table notebook</a>'\n",
              "          + ' to learn more about interactive tables.';\n",
              "        element.innerHTML = '';\n",
              "        dataTable['output_type'] = 'display_data';\n",
              "        await google.colab.output.renderOutput(dataTable, element);\n",
              "        const docLink = document.createElement('div');\n",
              "        docLink.innerHTML = docLinkHtml;\n",
              "        element.appendChild(docLink);\n",
              "      }\n",
              "    </script>\n",
              "  </div>\n",
              "\n",
              "\n",
              "<div id=\"df-5d6fe252-120c-4281-802f-c18a5d502910\">\n",
              "  <button class=\"colab-df-quickchart\" onclick=\"quickchart('df-5d6fe252-120c-4281-802f-c18a5d502910')\"\n",
              "            title=\"Suggest charts\"\n",
              "            style=\"display:none;\">\n",
              "\n",
              "<svg xmlns=\"http://www.w3.org/2000/svg\" height=\"24px\"viewBox=\"0 0 24 24\"\n",
              "     width=\"24px\">\n",
              "    <g>\n",
              "        <path d=\"M19 3H5c-1.1 0-2 .9-2 2v14c0 1.1.9 2 2 2h14c1.1 0 2-.9 2-2V5c0-1.1-.9-2-2-2zM9 17H7v-7h2v7zm4 0h-2V7h2v10zm4 0h-2v-4h2v4z\"/>\n",
              "    </g>\n",
              "</svg>\n",
              "  </button>\n",
              "\n",
              "<style>\n",
              "  .colab-df-quickchart {\n",
              "      --bg-color: #E8F0FE;\n",
              "      --fill-color: #1967D2;\n",
              "      --hover-bg-color: #E2EBFA;\n",
              "      --hover-fill-color: #174EA6;\n",
              "      --disabled-fill-color: #AAA;\n",
              "      --disabled-bg-color: #DDD;\n",
              "  }\n",
              "\n",
              "  [theme=dark] .colab-df-quickchart {\n",
              "      --bg-color: #3B4455;\n",
              "      --fill-color: #D2E3FC;\n",
              "      --hover-bg-color: #434B5C;\n",
              "      --hover-fill-color: #FFFFFF;\n",
              "      --disabled-bg-color: #3B4455;\n",
              "      --disabled-fill-color: #666;\n",
              "  }\n",
              "\n",
              "  .colab-df-quickchart {\n",
              "    background-color: var(--bg-color);\n",
              "    border: none;\n",
              "    border-radius: 50%;\n",
              "    cursor: pointer;\n",
              "    display: none;\n",
              "    fill: var(--fill-color);\n",
              "    height: 32px;\n",
              "    padding: 0;\n",
              "    width: 32px;\n",
              "  }\n",
              "\n",
              "  .colab-df-quickchart:hover {\n",
              "    background-color: var(--hover-bg-color);\n",
              "    box-shadow: 0 1px 2px rgba(60, 64, 67, 0.3), 0 1px 3px 1px rgba(60, 64, 67, 0.15);\n",
              "    fill: var(--button-hover-fill-color);\n",
              "  }\n",
              "\n",
              "  .colab-df-quickchart-complete:disabled,\n",
              "  .colab-df-quickchart-complete:disabled:hover {\n",
              "    background-color: var(--disabled-bg-color);\n",
              "    fill: var(--disabled-fill-color);\n",
              "    box-shadow: none;\n",
              "  }\n",
              "\n",
              "  .colab-df-spinner {\n",
              "    border: 2px solid var(--fill-color);\n",
              "    border-color: transparent;\n",
              "    border-bottom-color: var(--fill-color);\n",
              "    animation:\n",
              "      spin 1s steps(1) infinite;\n",
              "  }\n",
              "\n",
              "  @keyframes spin {\n",
              "    0% {\n",
              "      border-color: transparent;\n",
              "      border-bottom-color: var(--fill-color);\n",
              "      border-left-color: var(--fill-color);\n",
              "    }\n",
              "    20% {\n",
              "      border-color: transparent;\n",
              "      border-left-color: var(--fill-color);\n",
              "      border-top-color: var(--fill-color);\n",
              "    }\n",
              "    30% {\n",
              "      border-color: transparent;\n",
              "      border-left-color: var(--fill-color);\n",
              "      border-top-color: var(--fill-color);\n",
              "      border-right-color: var(--fill-color);\n",
              "    }\n",
              "    40% {\n",
              "      border-color: transparent;\n",
              "      border-right-color: var(--fill-color);\n",
              "      border-top-color: var(--fill-color);\n",
              "    }\n",
              "    60% {\n",
              "      border-color: transparent;\n",
              "      border-right-color: var(--fill-color);\n",
              "    }\n",
              "    80% {\n",
              "      border-color: transparent;\n",
              "      border-right-color: var(--fill-color);\n",
              "      border-bottom-color: var(--fill-color);\n",
              "    }\n",
              "    90% {\n",
              "      border-color: transparent;\n",
              "      border-bottom-color: var(--fill-color);\n",
              "    }\n",
              "  }\n",
              "</style>\n",
              "\n",
              "  <script>\n",
              "    async function quickchart(key) {\n",
              "      const quickchartButtonEl =\n",
              "        document.querySelector('#' + key + ' button');\n",
              "      quickchartButtonEl.disabled = true;  // To prevent multiple clicks.\n",
              "      quickchartButtonEl.classList.add('colab-df-spinner');\n",
              "      try {\n",
              "        const charts = await google.colab.kernel.invokeFunction(\n",
              "            'suggestCharts', [key], {});\n",
              "      } catch (error) {\n",
              "        console.error('Error during call to suggestCharts:', error);\n",
              "      }\n",
              "      quickchartButtonEl.classList.remove('colab-df-spinner');\n",
              "      quickchartButtonEl.classList.add('colab-df-quickchart-complete');\n",
              "    }\n",
              "    (() => {\n",
              "      let quickchartButtonEl =\n",
              "        document.querySelector('#df-5d6fe252-120c-4281-802f-c18a5d502910 button');\n",
              "      quickchartButtonEl.style.display =\n",
              "        google.colab.kernel.accessAllowed ? 'block' : 'none';\n",
              "    })();\n",
              "  </script>\n",
              "</div>\n",
              "\n",
              "    </div>\n",
              "  </div>\n"
            ],
            "application/vnd.google.colaboratory.intrinsic+json": {
              "type": "dataframe",
              "variable_name": "df_senior",
              "summary": "{\n  \"name\": \"df_senior\",\n  \"rows\": 192,\n  \"fields\": [\n    {\n      \"column\": \"Data_Contratacao\",\n      \"properties\": {\n        \"dtype\": \"date\",\n        \"min\": \"2021-06-29 00:00:00\",\n        \"max\": \"2024-02-14 00:00:00\",\n        \"num_unique_values\": 33,\n        \"samples\": [\n          \"2022-01-25 00:00:00\",\n          \"2023-01-20 00:00:00\",\n          \"2023-02-19 00:00:00\"\n        ],\n        \"semantic_type\": \"\",\n        \"description\": \"\"\n      }\n    },\n    {\n      \"column\": \"Data_Desligamento\",\n      \"properties\": {\n        \"dtype\": \"date\",\n        \"min\": \"2024-05-14 00:00:00\",\n        \"max\": \"2024-05-22 00:00:00\",\n        \"num_unique_values\": 2,\n        \"samples\": [\n          \"2024-05-22 00:00:00\",\n          \"2024-05-14 00:00:00\"\n        ],\n        \"semantic_type\": \"\",\n        \"description\": \"\"\n      }\n    },\n    {\n      \"column\": \"Meses_de_Servico\",\n      \"properties\": {\n        \"dtype\": \"number\",\n        \"std\": 9,\n        \"min\": 3,\n        \"max\": 35,\n        \"num_unique_values\": 33,\n        \"samples\": [\n          28,\n          16\n        ],\n        \"semantic_type\": \"\",\n        \"description\": \"\"\n      }\n    },\n    {\n      \"column\": \"Idade\",\n      \"properties\": {\n        \"dtype\": \"number\",\n        \"std\": 6,\n        \"min\": 27,\n        \"max\": 49,\n        \"num_unique_values\": 23,\n        \"samples\": [\n          29,\n          39\n        ],\n        \"semantic_type\": \"\",\n        \"description\": \"\"\n      }\n    },\n    {\n      \"column\": \"Pontuacao_Desempenho\",\n      \"properties\": {\n        \"dtype\": \"number\",\n        \"std\": 1.1530298560199936,\n        \"min\": 1.010708284133581,\n        \"max\": 4.99167009774217,\n        \"num_unique_values\": 192,\n        \"samples\": [\n          4.098733900339209,\n          2.925500916184522\n        ],\n        \"semantic_type\": \"\",\n        \"description\": \"\"\n      }\n    },\n    {\n      \"column\": \"Satisfacao_Trabalho\",\n      \"properties\": {\n        \"dtype\": \"number\",\n        \"std\": 1.1216434527160557,\n        \"min\": 1.059123703714966,\n        \"max\": 4.999415312180092,\n        \"num_unique_values\": 192,\n        \"samples\": [\n          3.1132799702906,\n          4.752975074810712\n        ],\n        \"semantic_type\": \"\",\n        \"description\": \"\"\n      }\n    },\n    {\n      \"column\": \"Nivel_Cargo\",\n      \"properties\": {\n        \"dtype\": \"category\",\n        \"num_unique_values\": 1,\n        \"samples\": [\n          \"S\\u00eanior\"\n        ],\n        \"semantic_type\": \"\",\n        \"description\": \"\"\n      }\n    },\n    {\n      \"column\": \"Salario\",\n      \"properties\": {\n        \"dtype\": \"number\",\n        \"std\": 1545.2014837101137,\n        \"min\": 7027.6,\n        \"max\": 11957.29,\n        \"num_unique_values\": 192,\n        \"samples\": [\n          9447.16\n        ],\n        \"semantic_type\": \"\",\n        \"description\": \"\"\n      }\n    },\n    {\n      \"column\": \"Horas_Extras\",\n      \"properties\": {\n        \"dtype\": \"number\",\n        \"std\": 7.451764610581733,\n        \"min\": 0.0,\n        \"max\": 42.0,\n        \"num_unique_values\": 31,\n        \"samples\": [\n          7.0\n        ],\n        \"semantic_type\": \"\",\n        \"description\": \"\"\n      }\n    },\n    {\n      \"column\": \"Desligamento\",\n      \"properties\": {\n        \"dtype\": \"number\",\n        \"std\": 0,\n        \"min\": 0,\n        \"max\": 1,\n        \"num_unique_values\": 2,\n        \"samples\": [\n          0\n        ],\n        \"semantic_type\": \"\",\n        \"description\": \"\"\n      }\n    }\n  ]\n}"
            }
          },
          "metadata": {},
          "execution_count": 12
        }
      ]
    },
    {
      "cell_type": "code",
      "source": [
        "# criando um nodf so com os que foram deligados\n",
        "df_pediram_a_conta = df[df['Desligamento'] == 1]"
      ],
      "metadata": {
        "id": "Krv-kcYfZwP9"
      },
      "execution_count": 13,
      "outputs": []
    },
    {
      "cell_type": "code",
      "source": [
        "df_pediram_a_conta.head().info()"
      ],
      "metadata": {
        "colab": {
          "base_uri": "https://localhost:8080/"
        },
        "id": "xfuLuKvWZ_Ic",
        "outputId": "d7880743-97a7-4b0b-c48b-2bcb9e534e20"
      },
      "execution_count": 14,
      "outputs": [
        {
          "output_type": "stream",
          "name": "stdout",
          "text": [
            "<class 'pandas.core.frame.DataFrame'>\n",
            "Index: 5 entries, 1 to 20\n",
            "Data columns (total 10 columns):\n",
            " #   Column                Non-Null Count  Dtype         \n",
            "---  ------                --------------  -----         \n",
            " 0   Data_Contratacao      5 non-null      datetime64[ns]\n",
            " 1   Data_Desligamento     5 non-null      datetime64[ns]\n",
            " 2   Meses_de_Servico      5 non-null      int64         \n",
            " 3   Idade                 5 non-null      int64         \n",
            " 4   Pontuacao_Desempenho  5 non-null      float64       \n",
            " 5   Satisfacao_Trabalho   5 non-null      float64       \n",
            " 6   Nivel_Cargo           5 non-null      object        \n",
            " 7   Salario               5 non-null      float64       \n",
            " 8   Horas_Extras          5 non-null      float64       \n",
            " 9   Desligamento          5 non-null      int64         \n",
            "dtypes: datetime64[ns](2), float64(4), int64(3), object(1)\n",
            "memory usage: 440.0+ bytes\n"
          ]
        }
      ]
    },
    {
      "cell_type": "code",
      "source": [
        "df_senior['Desligamento'].value_counts()"
      ],
      "metadata": {
        "colab": {
          "base_uri": "https://localhost:8080/"
        },
        "id": "mkNulnhKTem9",
        "outputId": "b0dd39a5-ba2f-481b-d006-bc72a44d53a3"
      },
      "execution_count": 15,
      "outputs": [
        {
          "output_type": "execute_result",
          "data": {
            "text/plain": [
              "Desligamento\n",
              "0    149\n",
              "1     43\n",
              "Name: count, dtype: int64"
            ]
          },
          "metadata": {},
          "execution_count": 15
        }
      ]
    },
    {
      "cell_type": "code",
      "source": [
        "df_desligamento = df_senior[df_senior['Desligamento'] == 1]"
      ],
      "metadata": {
        "id": "WWWIqO7wUd2h"
      },
      "execution_count": 16,
      "outputs": []
    },
    {
      "cell_type": "code",
      "source": [
        "df_desligamento.head()"
      ],
      "metadata": {
        "colab": {
          "base_uri": "https://localhost:8080/",
          "height": 226
        },
        "id": "tRNQq8A8UfPQ",
        "outputId": "15e4bb0d-2211-4302-a5af-8c970b951087"
      },
      "execution_count": 17,
      "outputs": [
        {
          "output_type": "execute_result",
          "data": {
            "text/plain": [
              "   Data_Contratacao Data_Desligamento  Meses_de_Servico  Idade  \\\n",
              "1        2023-11-16        2024-05-14                 6     43   \n",
              "5        2022-05-25        2024-05-14                24     43   \n",
              "23       2024-02-14        2024-05-14                 3     43   \n",
              "38       2021-10-27        2024-05-14                31     38   \n",
              "42       2022-09-22        2024-05-14                20     49   \n",
              "\n",
              "    Pontuacao_Desempenho  Satisfacao_Trabalho Nivel_Cargo   Salario  \\\n",
              "1               3.256257             1.711719      Sênior   8798.34   \n",
              "5               4.328231             3.209761      Sênior  10466.00   \n",
              "23              4.756251             2.832583      Sênior  11346.51   \n",
              "38              3.158602             3.572795      Sênior  10602.25   \n",
              "42              4.235481             1.614330      Sênior  11917.59   \n",
              "\n",
              "    Horas_Extras  Desligamento  \n",
              "1           19.0             1  \n",
              "5           14.0             1  \n",
              "23          14.0             1  \n",
              "38          20.0             1  \n",
              "42          22.0             1  "
            ],
            "text/html": [
              "\n",
              "  <div id=\"df-9306924d-5156-4ae2-84ae-0fb43bb1210d\" class=\"colab-df-container\">\n",
              "    <div>\n",
              "<style scoped>\n",
              "    .dataframe tbody tr th:only-of-type {\n",
              "        vertical-align: middle;\n",
              "    }\n",
              "\n",
              "    .dataframe tbody tr th {\n",
              "        vertical-align: top;\n",
              "    }\n",
              "\n",
              "    .dataframe thead th {\n",
              "        text-align: right;\n",
              "    }\n",
              "</style>\n",
              "<table border=\"1\" class=\"dataframe\">\n",
              "  <thead>\n",
              "    <tr style=\"text-align: right;\">\n",
              "      <th></th>\n",
              "      <th>Data_Contratacao</th>\n",
              "      <th>Data_Desligamento</th>\n",
              "      <th>Meses_de_Servico</th>\n",
              "      <th>Idade</th>\n",
              "      <th>Pontuacao_Desempenho</th>\n",
              "      <th>Satisfacao_Trabalho</th>\n",
              "      <th>Nivel_Cargo</th>\n",
              "      <th>Salario</th>\n",
              "      <th>Horas_Extras</th>\n",
              "      <th>Desligamento</th>\n",
              "    </tr>\n",
              "  </thead>\n",
              "  <tbody>\n",
              "    <tr>\n",
              "      <th>1</th>\n",
              "      <td>2023-11-16</td>\n",
              "      <td>2024-05-14</td>\n",
              "      <td>6</td>\n",
              "      <td>43</td>\n",
              "      <td>3.256257</td>\n",
              "      <td>1.711719</td>\n",
              "      <td>Sênior</td>\n",
              "      <td>8798.34</td>\n",
              "      <td>19.0</td>\n",
              "      <td>1</td>\n",
              "    </tr>\n",
              "    <tr>\n",
              "      <th>5</th>\n",
              "      <td>2022-05-25</td>\n",
              "      <td>2024-05-14</td>\n",
              "      <td>24</td>\n",
              "      <td>43</td>\n",
              "      <td>4.328231</td>\n",
              "      <td>3.209761</td>\n",
              "      <td>Sênior</td>\n",
              "      <td>10466.00</td>\n",
              "      <td>14.0</td>\n",
              "      <td>1</td>\n",
              "    </tr>\n",
              "    <tr>\n",
              "      <th>23</th>\n",
              "      <td>2024-02-14</td>\n",
              "      <td>2024-05-14</td>\n",
              "      <td>3</td>\n",
              "      <td>43</td>\n",
              "      <td>4.756251</td>\n",
              "      <td>2.832583</td>\n",
              "      <td>Sênior</td>\n",
              "      <td>11346.51</td>\n",
              "      <td>14.0</td>\n",
              "      <td>1</td>\n",
              "    </tr>\n",
              "    <tr>\n",
              "      <th>38</th>\n",
              "      <td>2021-10-27</td>\n",
              "      <td>2024-05-14</td>\n",
              "      <td>31</td>\n",
              "      <td>38</td>\n",
              "      <td>3.158602</td>\n",
              "      <td>3.572795</td>\n",
              "      <td>Sênior</td>\n",
              "      <td>10602.25</td>\n",
              "      <td>20.0</td>\n",
              "      <td>1</td>\n",
              "    </tr>\n",
              "    <tr>\n",
              "      <th>42</th>\n",
              "      <td>2022-09-22</td>\n",
              "      <td>2024-05-14</td>\n",
              "      <td>20</td>\n",
              "      <td>49</td>\n",
              "      <td>4.235481</td>\n",
              "      <td>1.614330</td>\n",
              "      <td>Sênior</td>\n",
              "      <td>11917.59</td>\n",
              "      <td>22.0</td>\n",
              "      <td>1</td>\n",
              "    </tr>\n",
              "  </tbody>\n",
              "</table>\n",
              "</div>\n",
              "    <div class=\"colab-df-buttons\">\n",
              "\n",
              "  <div class=\"colab-df-container\">\n",
              "    <button class=\"colab-df-convert\" onclick=\"convertToInteractive('df-9306924d-5156-4ae2-84ae-0fb43bb1210d')\"\n",
              "            title=\"Convert this dataframe to an interactive table.\"\n",
              "            style=\"display:none;\">\n",
              "\n",
              "  <svg xmlns=\"http://www.w3.org/2000/svg\" height=\"24px\" viewBox=\"0 -960 960 960\">\n",
              "    <path d=\"M120-120v-720h720v720H120Zm60-500h600v-160H180v160Zm220 220h160v-160H400v160Zm0 220h160v-160H400v160ZM180-400h160v-160H180v160Zm440 0h160v-160H620v160ZM180-180h160v-160H180v160Zm440 0h160v-160H620v160Z\"/>\n",
              "  </svg>\n",
              "    </button>\n",
              "\n",
              "  <style>\n",
              "    .colab-df-container {\n",
              "      display:flex;\n",
              "      gap: 12px;\n",
              "    }\n",
              "\n",
              "    .colab-df-convert {\n",
              "      background-color: #E8F0FE;\n",
              "      border: none;\n",
              "      border-radius: 50%;\n",
              "      cursor: pointer;\n",
              "      display: none;\n",
              "      fill: #1967D2;\n",
              "      height: 32px;\n",
              "      padding: 0 0 0 0;\n",
              "      width: 32px;\n",
              "    }\n",
              "\n",
              "    .colab-df-convert:hover {\n",
              "      background-color: #E2EBFA;\n",
              "      box-shadow: 0px 1px 2px rgba(60, 64, 67, 0.3), 0px 1px 3px 1px rgba(60, 64, 67, 0.15);\n",
              "      fill: #174EA6;\n",
              "    }\n",
              "\n",
              "    .colab-df-buttons div {\n",
              "      margin-bottom: 4px;\n",
              "    }\n",
              "\n",
              "    [theme=dark] .colab-df-convert {\n",
              "      background-color: #3B4455;\n",
              "      fill: #D2E3FC;\n",
              "    }\n",
              "\n",
              "    [theme=dark] .colab-df-convert:hover {\n",
              "      background-color: #434B5C;\n",
              "      box-shadow: 0px 1px 3px 1px rgba(0, 0, 0, 0.15);\n",
              "      filter: drop-shadow(0px 1px 2px rgba(0, 0, 0, 0.3));\n",
              "      fill: #FFFFFF;\n",
              "    }\n",
              "  </style>\n",
              "\n",
              "    <script>\n",
              "      const buttonEl =\n",
              "        document.querySelector('#df-9306924d-5156-4ae2-84ae-0fb43bb1210d button.colab-df-convert');\n",
              "      buttonEl.style.display =\n",
              "        google.colab.kernel.accessAllowed ? 'block' : 'none';\n",
              "\n",
              "      async function convertToInteractive(key) {\n",
              "        const element = document.querySelector('#df-9306924d-5156-4ae2-84ae-0fb43bb1210d');\n",
              "        const dataTable =\n",
              "          await google.colab.kernel.invokeFunction('convertToInteractive',\n",
              "                                                    [key], {});\n",
              "        if (!dataTable) return;\n",
              "\n",
              "        const docLinkHtml = 'Like what you see? Visit the ' +\n",
              "          '<a target=\"_blank\" href=https://colab.research.google.com/notebooks/data_table.ipynb>data table notebook</a>'\n",
              "          + ' to learn more about interactive tables.';\n",
              "        element.innerHTML = '';\n",
              "        dataTable['output_type'] = 'display_data';\n",
              "        await google.colab.output.renderOutput(dataTable, element);\n",
              "        const docLink = document.createElement('div');\n",
              "        docLink.innerHTML = docLinkHtml;\n",
              "        element.appendChild(docLink);\n",
              "      }\n",
              "    </script>\n",
              "  </div>\n",
              "\n",
              "\n",
              "<div id=\"df-cd4ca6c4-7b5e-44b9-acf5-e7a45d5d2738\">\n",
              "  <button class=\"colab-df-quickchart\" onclick=\"quickchart('df-cd4ca6c4-7b5e-44b9-acf5-e7a45d5d2738')\"\n",
              "            title=\"Suggest charts\"\n",
              "            style=\"display:none;\">\n",
              "\n",
              "<svg xmlns=\"http://www.w3.org/2000/svg\" height=\"24px\"viewBox=\"0 0 24 24\"\n",
              "     width=\"24px\">\n",
              "    <g>\n",
              "        <path d=\"M19 3H5c-1.1 0-2 .9-2 2v14c0 1.1.9 2 2 2h14c1.1 0 2-.9 2-2V5c0-1.1-.9-2-2-2zM9 17H7v-7h2v7zm4 0h-2V7h2v10zm4 0h-2v-4h2v4z\"/>\n",
              "    </g>\n",
              "</svg>\n",
              "  </button>\n",
              "\n",
              "<style>\n",
              "  .colab-df-quickchart {\n",
              "      --bg-color: #E8F0FE;\n",
              "      --fill-color: #1967D2;\n",
              "      --hover-bg-color: #E2EBFA;\n",
              "      --hover-fill-color: #174EA6;\n",
              "      --disabled-fill-color: #AAA;\n",
              "      --disabled-bg-color: #DDD;\n",
              "  }\n",
              "\n",
              "  [theme=dark] .colab-df-quickchart {\n",
              "      --bg-color: #3B4455;\n",
              "      --fill-color: #D2E3FC;\n",
              "      --hover-bg-color: #434B5C;\n",
              "      --hover-fill-color: #FFFFFF;\n",
              "      --disabled-bg-color: #3B4455;\n",
              "      --disabled-fill-color: #666;\n",
              "  }\n",
              "\n",
              "  .colab-df-quickchart {\n",
              "    background-color: var(--bg-color);\n",
              "    border: none;\n",
              "    border-radius: 50%;\n",
              "    cursor: pointer;\n",
              "    display: none;\n",
              "    fill: var(--fill-color);\n",
              "    height: 32px;\n",
              "    padding: 0;\n",
              "    width: 32px;\n",
              "  }\n",
              "\n",
              "  .colab-df-quickchart:hover {\n",
              "    background-color: var(--hover-bg-color);\n",
              "    box-shadow: 0 1px 2px rgba(60, 64, 67, 0.3), 0 1px 3px 1px rgba(60, 64, 67, 0.15);\n",
              "    fill: var(--button-hover-fill-color);\n",
              "  }\n",
              "\n",
              "  .colab-df-quickchart-complete:disabled,\n",
              "  .colab-df-quickchart-complete:disabled:hover {\n",
              "    background-color: var(--disabled-bg-color);\n",
              "    fill: var(--disabled-fill-color);\n",
              "    box-shadow: none;\n",
              "  }\n",
              "\n",
              "  .colab-df-spinner {\n",
              "    border: 2px solid var(--fill-color);\n",
              "    border-color: transparent;\n",
              "    border-bottom-color: var(--fill-color);\n",
              "    animation:\n",
              "      spin 1s steps(1) infinite;\n",
              "  }\n",
              "\n",
              "  @keyframes spin {\n",
              "    0% {\n",
              "      border-color: transparent;\n",
              "      border-bottom-color: var(--fill-color);\n",
              "      border-left-color: var(--fill-color);\n",
              "    }\n",
              "    20% {\n",
              "      border-color: transparent;\n",
              "      border-left-color: var(--fill-color);\n",
              "      border-top-color: var(--fill-color);\n",
              "    }\n",
              "    30% {\n",
              "      border-color: transparent;\n",
              "      border-left-color: var(--fill-color);\n",
              "      border-top-color: var(--fill-color);\n",
              "      border-right-color: var(--fill-color);\n",
              "    }\n",
              "    40% {\n",
              "      border-color: transparent;\n",
              "      border-right-color: var(--fill-color);\n",
              "      border-top-color: var(--fill-color);\n",
              "    }\n",
              "    60% {\n",
              "      border-color: transparent;\n",
              "      border-right-color: var(--fill-color);\n",
              "    }\n",
              "    80% {\n",
              "      border-color: transparent;\n",
              "      border-right-color: var(--fill-color);\n",
              "      border-bottom-color: var(--fill-color);\n",
              "    }\n",
              "    90% {\n",
              "      border-color: transparent;\n",
              "      border-bottom-color: var(--fill-color);\n",
              "    }\n",
              "  }\n",
              "</style>\n",
              "\n",
              "  <script>\n",
              "    async function quickchart(key) {\n",
              "      const quickchartButtonEl =\n",
              "        document.querySelector('#' + key + ' button');\n",
              "      quickchartButtonEl.disabled = true;  // To prevent multiple clicks.\n",
              "      quickchartButtonEl.classList.add('colab-df-spinner');\n",
              "      try {\n",
              "        const charts = await google.colab.kernel.invokeFunction(\n",
              "            'suggestCharts', [key], {});\n",
              "      } catch (error) {\n",
              "        console.error('Error during call to suggestCharts:', error);\n",
              "      }\n",
              "      quickchartButtonEl.classList.remove('colab-df-spinner');\n",
              "      quickchartButtonEl.classList.add('colab-df-quickchart-complete');\n",
              "    }\n",
              "    (() => {\n",
              "      let quickchartButtonEl =\n",
              "        document.querySelector('#df-cd4ca6c4-7b5e-44b9-acf5-e7a45d5d2738 button');\n",
              "      quickchartButtonEl.style.display =\n",
              "        google.colab.kernel.accessAllowed ? 'block' : 'none';\n",
              "    })();\n",
              "  </script>\n",
              "</div>\n",
              "\n",
              "    </div>\n",
              "  </div>\n"
            ],
            "application/vnd.google.colaboratory.intrinsic+json": {
              "type": "dataframe",
              "variable_name": "df_desligamento",
              "summary": "{\n  \"name\": \"df_desligamento\",\n  \"rows\": 43,\n  \"fields\": [\n    {\n      \"column\": \"Data_Contratacao\",\n      \"properties\": {\n        \"dtype\": \"date\",\n        \"min\": \"2021-06-29 00:00:00\",\n        \"max\": \"2024-02-14 00:00:00\",\n        \"num_unique_values\": 22,\n        \"samples\": [\n          \"2023-11-16 00:00:00\",\n          \"2023-06-19 00:00:00\",\n          \"2023-12-16 00:00:00\"\n        ],\n        \"semantic_type\": \"\",\n        \"description\": \"\"\n      }\n    },\n    {\n      \"column\": \"Data_Desligamento\",\n      \"properties\": {\n        \"dtype\": \"date\",\n        \"min\": \"2024-05-14 00:00:00\",\n        \"max\": \"2024-05-14 00:00:00\",\n        \"num_unique_values\": 1,\n        \"samples\": [\n          \"2024-05-14 00:00:00\"\n        ],\n        \"semantic_type\": \"\",\n        \"description\": \"\"\n      }\n    },\n    {\n      \"column\": \"Meses_de_Servico\",\n      \"properties\": {\n        \"dtype\": \"number\",\n        \"std\": 10,\n        \"min\": 3,\n        \"max\": 35,\n        \"num_unique_values\": 22,\n        \"samples\": [\n          6\n        ],\n        \"semantic_type\": \"\",\n        \"description\": \"\"\n      }\n    },\n    {\n      \"column\": \"Idade\",\n      \"properties\": {\n        \"dtype\": \"number\",\n        \"std\": 6,\n        \"min\": 27,\n        \"max\": 49,\n        \"num_unique_values\": 19,\n        \"samples\": [\n          43\n        ],\n        \"semantic_type\": \"\",\n        \"description\": \"\"\n      }\n    },\n    {\n      \"column\": \"Pontuacao_Desempenho\",\n      \"properties\": {\n        \"dtype\": \"number\",\n        \"std\": 1.1115331278493579,\n        \"min\": 1.136983636585382,\n        \"max\": 4.941439367668915,\n        \"num_unique_values\": 43,\n        \"samples\": [\n          4.535274550884662\n        ],\n        \"semantic_type\": \"\",\n        \"description\": \"\"\n      }\n    },\n    {\n      \"column\": \"Satisfacao_Trabalho\",\n      \"properties\": {\n        \"dtype\": \"number\",\n        \"std\": 0.7837049198875334,\n        \"min\": 1.22154193529413,\n        \"max\": 3.935050648967419,\n        \"num_unique_values\": 43,\n        \"samples\": [\n          2.445484992394573\n        ],\n        \"semantic_type\": \"\",\n        \"description\": \"\"\n      }\n    },\n    {\n      \"column\": \"Nivel_Cargo\",\n      \"properties\": {\n        \"dtype\": \"category\",\n        \"num_unique_values\": 1,\n        \"samples\": [\n          \"S\\u00eanior\"\n        ],\n        \"semantic_type\": \"\",\n        \"description\": \"\"\n      }\n    },\n    {\n      \"column\": \"Salario\",\n      \"properties\": {\n        \"dtype\": \"number\",\n        \"std\": 1705.7262877860583,\n        \"min\": 7027.6,\n        \"max\": 11932.74,\n        \"num_unique_values\": 43,\n        \"samples\": [\n          7201.62\n        ],\n        \"semantic_type\": \"\",\n        \"description\": \"\"\n      }\n    },\n    {\n      \"column\": \"Horas_Extras\",\n      \"properties\": {\n        \"dtype\": \"number\",\n        \"std\": 7.256264716100276,\n        \"min\": 5.0,\n        \"max\": 42.0,\n        \"num_unique_values\": 21,\n        \"samples\": [\n          19.0\n        ],\n        \"semantic_type\": \"\",\n        \"description\": \"\"\n      }\n    },\n    {\n      \"column\": \"Desligamento\",\n      \"properties\": {\n        \"dtype\": \"number\",\n        \"std\": 0,\n        \"min\": 1,\n        \"max\": 1,\n        \"num_unique_values\": 1,\n        \"samples\": [\n          1\n        ],\n        \"semantic_type\": \"\",\n        \"description\": \"\"\n      }\n    }\n  ]\n}"
            }
          },
          "metadata": {},
          "execution_count": 17
        }
      ]
    },
    {
      "cell_type": "code",
      "source": [
        "df_desligamento.describe()"
      ],
      "metadata": {
        "colab": {
          "base_uri": "https://localhost:8080/",
          "height": 424
        },
        "id": "JnvxkXmAUszl",
        "outputId": "1fc1e040-f2b8-4861-d9ff-c40f729ad3f0"
      },
      "execution_count": 18,
      "outputs": [
        {
          "output_type": "execute_result",
          "data": {
            "text/plain": [
              "                    Data_Contratacao    Data_Desligamento  Meses_de_Servico  \\\n",
              "count                             43                   43          43.00000   \n",
              "mean   2022-11-04 06:08:22.325581312  2024-05-14 00:00:00          18.55814   \n",
              "min              2021-06-29 00:00:00  2024-05-14 00:00:00           3.00000   \n",
              "25%              2022-03-11 00:00:00  2024-05-14 00:00:00          10.50000   \n",
              "50%              2022-11-21 00:00:00  2024-05-14 00:00:00          18.00000   \n",
              "75%              2023-07-04 00:00:00  2024-05-14 00:00:00          26.50000   \n",
              "max              2024-02-14 00:00:00  2024-05-14 00:00:00          35.00000   \n",
              "std                              NaN                  NaN          10.19641   \n",
              "\n",
              "           Idade  Pontuacao_Desempenho  Satisfacao_Trabalho       Salario  \\\n",
              "count  43.000000             43.000000            43.000000     43.000000   \n",
              "mean   38.139535              3.520831             2.588305   9492.402791   \n",
              "min    27.000000              1.136984             1.221542   7027.600000   \n",
              "25%    32.500000              2.829068             2.059055   8080.995000   \n",
              "50%    39.000000              3.687378             2.563417   9635.860000   \n",
              "75%    43.000000              4.541496             3.236103  10965.755000   \n",
              "max    49.000000              4.941439             3.935051  11932.740000   \n",
              "std     6.166659              1.111533             0.783705   1705.726288   \n",
              "\n",
              "       Horas_Extras  Desligamento  \n",
              "count     43.000000          43.0  \n",
              "mean      19.674419           1.0  \n",
              "min        5.000000           1.0  \n",
              "25%       14.500000           1.0  \n",
              "50%       19.000000           1.0  \n",
              "75%       22.500000           1.0  \n",
              "max       42.000000           1.0  \n",
              "std        7.256265           0.0  "
            ],
            "text/html": [
              "\n",
              "  <div id=\"df-6921bfb1-e522-4d06-b7b8-abfe59260da0\" class=\"colab-df-container\">\n",
              "    <div>\n",
              "<style scoped>\n",
              "    .dataframe tbody tr th:only-of-type {\n",
              "        vertical-align: middle;\n",
              "    }\n",
              "\n",
              "    .dataframe tbody tr th {\n",
              "        vertical-align: top;\n",
              "    }\n",
              "\n",
              "    .dataframe thead th {\n",
              "        text-align: right;\n",
              "    }\n",
              "</style>\n",
              "<table border=\"1\" class=\"dataframe\">\n",
              "  <thead>\n",
              "    <tr style=\"text-align: right;\">\n",
              "      <th></th>\n",
              "      <th>Data_Contratacao</th>\n",
              "      <th>Data_Desligamento</th>\n",
              "      <th>Meses_de_Servico</th>\n",
              "      <th>Idade</th>\n",
              "      <th>Pontuacao_Desempenho</th>\n",
              "      <th>Satisfacao_Trabalho</th>\n",
              "      <th>Salario</th>\n",
              "      <th>Horas_Extras</th>\n",
              "      <th>Desligamento</th>\n",
              "    </tr>\n",
              "  </thead>\n",
              "  <tbody>\n",
              "    <tr>\n",
              "      <th>count</th>\n",
              "      <td>43</td>\n",
              "      <td>43</td>\n",
              "      <td>43.00000</td>\n",
              "      <td>43.000000</td>\n",
              "      <td>43.000000</td>\n",
              "      <td>43.000000</td>\n",
              "      <td>43.000000</td>\n",
              "      <td>43.000000</td>\n",
              "      <td>43.0</td>\n",
              "    </tr>\n",
              "    <tr>\n",
              "      <th>mean</th>\n",
              "      <td>2022-11-04 06:08:22.325581312</td>\n",
              "      <td>2024-05-14 00:00:00</td>\n",
              "      <td>18.55814</td>\n",
              "      <td>38.139535</td>\n",
              "      <td>3.520831</td>\n",
              "      <td>2.588305</td>\n",
              "      <td>9492.402791</td>\n",
              "      <td>19.674419</td>\n",
              "      <td>1.0</td>\n",
              "    </tr>\n",
              "    <tr>\n",
              "      <th>min</th>\n",
              "      <td>2021-06-29 00:00:00</td>\n",
              "      <td>2024-05-14 00:00:00</td>\n",
              "      <td>3.00000</td>\n",
              "      <td>27.000000</td>\n",
              "      <td>1.136984</td>\n",
              "      <td>1.221542</td>\n",
              "      <td>7027.600000</td>\n",
              "      <td>5.000000</td>\n",
              "      <td>1.0</td>\n",
              "    </tr>\n",
              "    <tr>\n",
              "      <th>25%</th>\n",
              "      <td>2022-03-11 00:00:00</td>\n",
              "      <td>2024-05-14 00:00:00</td>\n",
              "      <td>10.50000</td>\n",
              "      <td>32.500000</td>\n",
              "      <td>2.829068</td>\n",
              "      <td>2.059055</td>\n",
              "      <td>8080.995000</td>\n",
              "      <td>14.500000</td>\n",
              "      <td>1.0</td>\n",
              "    </tr>\n",
              "    <tr>\n",
              "      <th>50%</th>\n",
              "      <td>2022-11-21 00:00:00</td>\n",
              "      <td>2024-05-14 00:00:00</td>\n",
              "      <td>18.00000</td>\n",
              "      <td>39.000000</td>\n",
              "      <td>3.687378</td>\n",
              "      <td>2.563417</td>\n",
              "      <td>9635.860000</td>\n",
              "      <td>19.000000</td>\n",
              "      <td>1.0</td>\n",
              "    </tr>\n",
              "    <tr>\n",
              "      <th>75%</th>\n",
              "      <td>2023-07-04 00:00:00</td>\n",
              "      <td>2024-05-14 00:00:00</td>\n",
              "      <td>26.50000</td>\n",
              "      <td>43.000000</td>\n",
              "      <td>4.541496</td>\n",
              "      <td>3.236103</td>\n",
              "      <td>10965.755000</td>\n",
              "      <td>22.500000</td>\n",
              "      <td>1.0</td>\n",
              "    </tr>\n",
              "    <tr>\n",
              "      <th>max</th>\n",
              "      <td>2024-02-14 00:00:00</td>\n",
              "      <td>2024-05-14 00:00:00</td>\n",
              "      <td>35.00000</td>\n",
              "      <td>49.000000</td>\n",
              "      <td>4.941439</td>\n",
              "      <td>3.935051</td>\n",
              "      <td>11932.740000</td>\n",
              "      <td>42.000000</td>\n",
              "      <td>1.0</td>\n",
              "    </tr>\n",
              "    <tr>\n",
              "      <th>std</th>\n",
              "      <td>NaN</td>\n",
              "      <td>NaN</td>\n",
              "      <td>10.19641</td>\n",
              "      <td>6.166659</td>\n",
              "      <td>1.111533</td>\n",
              "      <td>0.783705</td>\n",
              "      <td>1705.726288</td>\n",
              "      <td>7.256265</td>\n",
              "      <td>0.0</td>\n",
              "    </tr>\n",
              "  </tbody>\n",
              "</table>\n",
              "</div>\n",
              "    <div class=\"colab-df-buttons\">\n",
              "\n",
              "  <div class=\"colab-df-container\">\n",
              "    <button class=\"colab-df-convert\" onclick=\"convertToInteractive('df-6921bfb1-e522-4d06-b7b8-abfe59260da0')\"\n",
              "            title=\"Convert this dataframe to an interactive table.\"\n",
              "            style=\"display:none;\">\n",
              "\n",
              "  <svg xmlns=\"http://www.w3.org/2000/svg\" height=\"24px\" viewBox=\"0 -960 960 960\">\n",
              "    <path d=\"M120-120v-720h720v720H120Zm60-500h600v-160H180v160Zm220 220h160v-160H400v160Zm0 220h160v-160H400v160ZM180-400h160v-160H180v160Zm440 0h160v-160H620v160ZM180-180h160v-160H180v160Zm440 0h160v-160H620v160Z\"/>\n",
              "  </svg>\n",
              "    </button>\n",
              "\n",
              "  <style>\n",
              "    .colab-df-container {\n",
              "      display:flex;\n",
              "      gap: 12px;\n",
              "    }\n",
              "\n",
              "    .colab-df-convert {\n",
              "      background-color: #E8F0FE;\n",
              "      border: none;\n",
              "      border-radius: 50%;\n",
              "      cursor: pointer;\n",
              "      display: none;\n",
              "      fill: #1967D2;\n",
              "      height: 32px;\n",
              "      padding: 0 0 0 0;\n",
              "      width: 32px;\n",
              "    }\n",
              "\n",
              "    .colab-df-convert:hover {\n",
              "      background-color: #E2EBFA;\n",
              "      box-shadow: 0px 1px 2px rgba(60, 64, 67, 0.3), 0px 1px 3px 1px rgba(60, 64, 67, 0.15);\n",
              "      fill: #174EA6;\n",
              "    }\n",
              "\n",
              "    .colab-df-buttons div {\n",
              "      margin-bottom: 4px;\n",
              "    }\n",
              "\n",
              "    [theme=dark] .colab-df-convert {\n",
              "      background-color: #3B4455;\n",
              "      fill: #D2E3FC;\n",
              "    }\n",
              "\n",
              "    [theme=dark] .colab-df-convert:hover {\n",
              "      background-color: #434B5C;\n",
              "      box-shadow: 0px 1px 3px 1px rgba(0, 0, 0, 0.15);\n",
              "      filter: drop-shadow(0px 1px 2px rgba(0, 0, 0, 0.3));\n",
              "      fill: #FFFFFF;\n",
              "    }\n",
              "  </style>\n",
              "\n",
              "    <script>\n",
              "      const buttonEl =\n",
              "        document.querySelector('#df-6921bfb1-e522-4d06-b7b8-abfe59260da0 button.colab-df-convert');\n",
              "      buttonEl.style.display =\n",
              "        google.colab.kernel.accessAllowed ? 'block' : 'none';\n",
              "\n",
              "      async function convertToInteractive(key) {\n",
              "        const element = document.querySelector('#df-6921bfb1-e522-4d06-b7b8-abfe59260da0');\n",
              "        const dataTable =\n",
              "          await google.colab.kernel.invokeFunction('convertToInteractive',\n",
              "                                                    [key], {});\n",
              "        if (!dataTable) return;\n",
              "\n",
              "        const docLinkHtml = 'Like what you see? Visit the ' +\n",
              "          '<a target=\"_blank\" href=https://colab.research.google.com/notebooks/data_table.ipynb>data table notebook</a>'\n",
              "          + ' to learn more about interactive tables.';\n",
              "        element.innerHTML = '';\n",
              "        dataTable['output_type'] = 'display_data';\n",
              "        await google.colab.output.renderOutput(dataTable, element);\n",
              "        const docLink = document.createElement('div');\n",
              "        docLink.innerHTML = docLinkHtml;\n",
              "        element.appendChild(docLink);\n",
              "      }\n",
              "    </script>\n",
              "  </div>\n",
              "\n",
              "\n",
              "<div id=\"df-cafc8fb1-271f-43ae-b827-d665787f091f\">\n",
              "  <button class=\"colab-df-quickchart\" onclick=\"quickchart('df-cafc8fb1-271f-43ae-b827-d665787f091f')\"\n",
              "            title=\"Suggest charts\"\n",
              "            style=\"display:none;\">\n",
              "\n",
              "<svg xmlns=\"http://www.w3.org/2000/svg\" height=\"24px\"viewBox=\"0 0 24 24\"\n",
              "     width=\"24px\">\n",
              "    <g>\n",
              "        <path d=\"M19 3H5c-1.1 0-2 .9-2 2v14c0 1.1.9 2 2 2h14c1.1 0 2-.9 2-2V5c0-1.1-.9-2-2-2zM9 17H7v-7h2v7zm4 0h-2V7h2v10zm4 0h-2v-4h2v4z\"/>\n",
              "    </g>\n",
              "</svg>\n",
              "  </button>\n",
              "\n",
              "<style>\n",
              "  .colab-df-quickchart {\n",
              "      --bg-color: #E8F0FE;\n",
              "      --fill-color: #1967D2;\n",
              "      --hover-bg-color: #E2EBFA;\n",
              "      --hover-fill-color: #174EA6;\n",
              "      --disabled-fill-color: #AAA;\n",
              "      --disabled-bg-color: #DDD;\n",
              "  }\n",
              "\n",
              "  [theme=dark] .colab-df-quickchart {\n",
              "      --bg-color: #3B4455;\n",
              "      --fill-color: #D2E3FC;\n",
              "      --hover-bg-color: #434B5C;\n",
              "      --hover-fill-color: #FFFFFF;\n",
              "      --disabled-bg-color: #3B4455;\n",
              "      --disabled-fill-color: #666;\n",
              "  }\n",
              "\n",
              "  .colab-df-quickchart {\n",
              "    background-color: var(--bg-color);\n",
              "    border: none;\n",
              "    border-radius: 50%;\n",
              "    cursor: pointer;\n",
              "    display: none;\n",
              "    fill: var(--fill-color);\n",
              "    height: 32px;\n",
              "    padding: 0;\n",
              "    width: 32px;\n",
              "  }\n",
              "\n",
              "  .colab-df-quickchart:hover {\n",
              "    background-color: var(--hover-bg-color);\n",
              "    box-shadow: 0 1px 2px rgba(60, 64, 67, 0.3), 0 1px 3px 1px rgba(60, 64, 67, 0.15);\n",
              "    fill: var(--button-hover-fill-color);\n",
              "  }\n",
              "\n",
              "  .colab-df-quickchart-complete:disabled,\n",
              "  .colab-df-quickchart-complete:disabled:hover {\n",
              "    background-color: var(--disabled-bg-color);\n",
              "    fill: var(--disabled-fill-color);\n",
              "    box-shadow: none;\n",
              "  }\n",
              "\n",
              "  .colab-df-spinner {\n",
              "    border: 2px solid var(--fill-color);\n",
              "    border-color: transparent;\n",
              "    border-bottom-color: var(--fill-color);\n",
              "    animation:\n",
              "      spin 1s steps(1) infinite;\n",
              "  }\n",
              "\n",
              "  @keyframes spin {\n",
              "    0% {\n",
              "      border-color: transparent;\n",
              "      border-bottom-color: var(--fill-color);\n",
              "      border-left-color: var(--fill-color);\n",
              "    }\n",
              "    20% {\n",
              "      border-color: transparent;\n",
              "      border-left-color: var(--fill-color);\n",
              "      border-top-color: var(--fill-color);\n",
              "    }\n",
              "    30% {\n",
              "      border-color: transparent;\n",
              "      border-left-color: var(--fill-color);\n",
              "      border-top-color: var(--fill-color);\n",
              "      border-right-color: var(--fill-color);\n",
              "    }\n",
              "    40% {\n",
              "      border-color: transparent;\n",
              "      border-right-color: var(--fill-color);\n",
              "      border-top-color: var(--fill-color);\n",
              "    }\n",
              "    60% {\n",
              "      border-color: transparent;\n",
              "      border-right-color: var(--fill-color);\n",
              "    }\n",
              "    80% {\n",
              "      border-color: transparent;\n",
              "      border-right-color: var(--fill-color);\n",
              "      border-bottom-color: var(--fill-color);\n",
              "    }\n",
              "    90% {\n",
              "      border-color: transparent;\n",
              "      border-bottom-color: var(--fill-color);\n",
              "    }\n",
              "  }\n",
              "</style>\n",
              "\n",
              "  <script>\n",
              "    async function quickchart(key) {\n",
              "      const quickchartButtonEl =\n",
              "        document.querySelector('#' + key + ' button');\n",
              "      quickchartButtonEl.disabled = true;  // To prevent multiple clicks.\n",
              "      quickchartButtonEl.classList.add('colab-df-spinner');\n",
              "      try {\n",
              "        const charts = await google.colab.kernel.invokeFunction(\n",
              "            'suggestCharts', [key], {});\n",
              "      } catch (error) {\n",
              "        console.error('Error during call to suggestCharts:', error);\n",
              "      }\n",
              "      quickchartButtonEl.classList.remove('colab-df-spinner');\n",
              "      quickchartButtonEl.classList.add('colab-df-quickchart-complete');\n",
              "    }\n",
              "    (() => {\n",
              "      let quickchartButtonEl =\n",
              "        document.querySelector('#df-cafc8fb1-271f-43ae-b827-d665787f091f button');\n",
              "      quickchartButtonEl.style.display =\n",
              "        google.colab.kernel.accessAllowed ? 'block' : 'none';\n",
              "    })();\n",
              "  </script>\n",
              "</div>\n",
              "\n",
              "    </div>\n",
              "  </div>\n"
            ],
            "application/vnd.google.colaboratory.intrinsic+json": {
              "type": "dataframe",
              "summary": "{\n  \"name\": \"df_desligamento\",\n  \"rows\": 8,\n  \"fields\": [\n    {\n      \"column\": \"Data_Contratacao\",\n      \"properties\": {\n        \"dtype\": \"date\",\n        \"min\": \"1970-01-01 00:00:00.000000043\",\n        \"max\": \"2024-02-14 00:00:00\",\n        \"num_unique_values\": 7,\n        \"samples\": [\n          \"43\",\n          \"2022-11-04 06:08:22.325581312\",\n          \"2023-07-04 00:00:00\"\n        ],\n        \"semantic_type\": \"\",\n        \"description\": \"\"\n      }\n    },\n    {\n      \"column\": \"Data_Desligamento\",\n      \"properties\": {\n        \"dtype\": \"date\",\n        \"min\": \"1970-01-01 00:00:00.000000043\",\n        \"max\": \"2024-05-14 00:00:00\",\n        \"num_unique_values\": 2,\n        \"samples\": [\n          \"2024-05-14 00:00:00\",\n          \"43\"\n        ],\n        \"semantic_type\": \"\",\n        \"description\": \"\"\n      }\n    },\n    {\n      \"column\": \"Meses_de_Servico\",\n      \"properties\": {\n        \"dtype\": \"number\",\n        \"std\": 13.495309345410051,\n        \"min\": 3.0,\n        \"max\": 43.0,\n        \"num_unique_values\": 8,\n        \"samples\": [\n          18.558139534883722,\n          26.5\n        ],\n        \"semantic_type\": \"\",\n        \"description\": \"\"\n      }\n    },\n    {\n      \"column\": \"Idade\",\n      \"properties\": {\n        \"dtype\": \"number\",\n        \"std\": 13.36769359224821,\n        \"min\": 6.166659184096504,\n        \"max\": 49.0,\n        \"num_unique_values\": 7,\n        \"samples\": [\n          43.0,\n          38.13953488372093\n        ],\n        \"semantic_type\": \"\",\n        \"description\": \"\"\n      }\n    },\n    {\n      \"column\": \"Pontuacao_Desempenho\",\n      \"properties\": {\n        \"dtype\": \"number\",\n        \"std\": 14.173387277719655,\n        \"min\": 1.1115331278493579,\n        \"max\": 43.0,\n        \"num_unique_values\": 8,\n        \"samples\": [\n          3.520830745876475,\n          4.541496464681454\n        ],\n        \"semantic_type\": \"\",\n        \"description\": \"\"\n      }\n    },\n    {\n      \"column\": \"Satisfacao_Trabalho\",\n      \"properties\": {\n        \"dtype\": \"number\",\n        \"std\": 14.410902955526488,\n        \"min\": 0.7837049198875334,\n        \"max\": 43.0,\n        \"num_unique_values\": 8,\n        \"samples\": [\n          2.5883051724045014,\n          3.236102645900578\n        ],\n        \"semantic_type\": \"\",\n        \"description\": \"\"\n      }\n    },\n    {\n      \"column\": \"Salario\",\n      \"properties\": {\n        \"dtype\": \"number\",\n        \"std\": 4305.77224385722,\n        \"min\": 43.0,\n        \"max\": 11932.74,\n        \"num_unique_values\": 8,\n        \"samples\": [\n          9492.402790697673,\n          10965.755\n        ],\n        \"semantic_type\": \"\",\n        \"description\": \"\"\n      }\n    },\n    {\n      \"column\": \"Horas_Extras\",\n      \"properties\": {\n        \"dtype\": \"number\",\n        \"std\": 14.228284058966157,\n        \"min\": 5.0,\n        \"max\": 43.0,\n        \"num_unique_values\": 8,\n        \"samples\": [\n          19.674418604651162,\n          22.5\n        ],\n        \"semantic_type\": \"\",\n        \"description\": \"\"\n      }\n    },\n    {\n      \"column\": \"Desligamento\",\n      \"properties\": {\n        \"dtype\": \"number\",\n        \"std\": 14.90385856078888,\n        \"min\": 0.0,\n        \"max\": 43.0,\n        \"num_unique_values\": 3,\n        \"samples\": [\n          43.0,\n          1.0\n        ],\n        \"semantic_type\": \"\",\n        \"description\": \"\"\n      }\n    }\n  ]\n}"
            }
          },
          "metadata": {},
          "execution_count": 18
        }
      ]
    },
    {
      "cell_type": "code",
      "source": [
        "plt.figure(figsize=(10, 6))\n",
        "plt.scatter(df_desligamento['Idade'], df_desligamento['Horas_Extras'], alpha=0.5)\n",
        "plt.title(' Idade vs Salário')\n",
        "plt.xlabel('Idade')\n",
        "plt.ylabel('Salário')\n",
        "plt.grid(True)\n",
        "plt.show()"
      ],
      "metadata": {
        "colab": {
          "base_uri": "https://localhost:8080/",
          "height": 564
        },
        "id": "yB__Vv1OVUA0",
        "outputId": "976b34ce-af9a-4551-a8e3-9e16cbea2649"
      },
      "execution_count": 19,
      "outputs": [
        {
          "output_type": "display_data",
          "data": {
            "text/plain": [
              "<Figure size 1000x600 with 1 Axes>"
            ],
            "image/png": "[encoded data removed]"
          },
          "metadata": {}
        }
      ]
    },
    {
      "cell_type": "code",
      "source": [
        "plt.figure(figsize=(10, 6))\n",
        "plt.bar(df_desligamento['Idade'], df_desligamento['Salario'], alpha=0.5)\n",
        "plt.title('Média Salarial Dos Sênior desligados por Intervalo de Idade')\n",
        "plt.xlabel('Idade')\n",
        "plt.ylabel('Salário')\n",
        "plt.grid(True)\n",
        "plt.show()"
      ],
      "metadata": {
        "colab": {
          "base_uri": "https://localhost:8080/",
          "height": 565
        },
        "id": "GyFMgIN1WLZE",
        "outputId": "7aa46e84-ede8-4ae5-9922-40a727350e0a"
      },
      "execution_count": 20,
      "outputs": [
        {
          "output_type": "display_data",
          "data": {
            "text/plain": [
              "<Figure size 1000x600 with 1 Axes>"
            ],
            "image/png": "[encoded data removed]"
          },
          "metadata": {}
        }
      ]
    },
    {
      "cell_type": "code",
      "source": [
        "\n",
        "\n",
        "# Calcula os coeficientes da reta de melhor ajuste\n",
        "coef = np.polyfit(df_desligamento['Idade'], df_desligamento['Horas_Extras'], 1)\n",
        "\n",
        "# Cria a função da reta\n",
        "f = np.poly1d(coef)\n",
        "\n",
        "# Calcula os resíduos da regressão\n",
        "residuals = df_desligamento['Horas_Extras'] - f(df_desligamento['Idade'])\n",
        "\n",
        "# Calcula o desvio padrão dos resíduos\n",
        "std_dev = np.std(residuals)\n",
        "\n",
        "# Plota a reta\n",
        "plt.figure(figsize=(10, 6))\n",
        "plt.scatter(df_desligamento['Idade'], df_desligamento['Horas_Extras'], alpha=0.5)\n",
        "plt.plot(df_desligamento['Idade'], f(df_desligamento['Idade']), '-r')\n",
        "plt.title('Idade vs Salário')\n",
        "plt.xlabel('Idade')\n",
        "plt.ylabel('Salário')\n",
        "plt.grid(True)\n",
        "\n",
        "# Adiciona uma legenda\n",
        "plt.legend(['Scatter plot', 'Reta de regressão'], loc='upper left')\n",
        "\n",
        "# Adiciona o desvio padrão como texto na figura\n",
        "plt.text(df_desligamento['Idade'].mean(), df_desligamento['Horas_Extras'].mean(),\n",
        "          f'Desvio padrão: {std_dev:.2f}', fontsize=10)\n",
        "\n",
        "plt.show()"
      ],
      "metadata": {
        "colab": {
          "base_uri": "https://localhost:8080/",
          "height": 564
        },
        "id": "6kwpAgYZY7ks",
        "outputId": "777de1ce-8d69-4015-a72b-a2ad76478ede"
      },
      "execution_count": 21,
      "outputs": [
        {
          "output_type": "display_data",
          "data": {
            "text/plain": [
              "<Figure size 1000x600 with 1 Axes>"
            ],
            "image/png": "[encoded data removed]"
          },
          "metadata": {}
        }
      ]
    },
    {
      "cell_type": "code",
      "source": [
        "df_senior['Salario'].describe()"
      ],
      "metadata": {
        "colab": {
          "base_uri": "https://localhost:8080/"
        },
        "id": "-DUVeZF5S5Ow",
        "outputId": "e5061ae3-e2ed-4245-eb3a-6817fc55ef03"
      },
      "execution_count": 22,
      "outputs": [
        {
          "output_type": "execute_result",
          "data": {
            "text/plain": [
              "count      192.000000\n",
              "mean      9496.988646\n",
              "std       1545.201484\n",
              "min       7027.600000\n",
              "25%       8175.410000\n",
              "50%       9448.300000\n",
              "75%      10926.557500\n",
              "max      11957.290000\n",
              "Name: Salario, dtype: float64"
            ]
          },
          "metadata": {},
          "execution_count": 22
        }
      ]
    },
    {
      "cell_type": "code",
      "source": [],
      "metadata": {
        "id": "hJa_dbcZSTGr"
      },
      "execution_count": 22,
      "outputs": []
    },
    {
      "cell_type": "code",
      "source": [
        "df['Data_Desligamento'].value_counts()\n"
      ],
      "metadata": {
        "id": "c3EApZUjtUkc",
        "colab": {
          "base_uri": "https://localhost:8080/"
        },
        "outputId": "44b7c863-8d80-4cf5-cb40-1919e158cf4b"
      },
      "execution_count": 23,
      "outputs": [
        {
          "output_type": "execute_result",
          "data": {
            "text/plain": [
              "Data_Desligamento\n",
              "2024-05-22    506\n",
              "2024-05-14    144\n",
              "Name: count, dtype: int64"
            ]
          },
          "metadata": {},
          "execution_count": 23
        }
      ]
    },
    {
      "cell_type": "code",
      "source": [
        "\n",
        "df['Idade'].value_counts().plot(kind='bar')\n",
        "plt.title('Idade dos funcionarios')\n",
        "plt.xlabel('Idade dos fucionarios')\n",
        "plt.ylabel('Quantidade')\n",
        "plt.show()\n"
      ],
      "metadata": {
        "colab": {
          "base_uri": "https://localhost:8080/",
          "height": 475
        },
        "id": "WIx_upJswKMN",
        "outputId": "59b6619c-89ef-4773-dd88-1913355d6382"
      },
      "execution_count": 24,
      "outputs": [
        {
          "output_type": "display_data",
          "data": {
            "text/plain": [
              "<Figure size 640x480 with 1 Axes>"
            ],
            "image/png": "[encoded data removed]"
          },
          "metadata": {}
        }
      ]
    },
    {
      "cell_type": "code",
      "source": [
        "df['Data_Contratacao'].value_counts().sort_index(ascending=False)\n",
        "\n"
      ],
      "metadata": {
        "colab": {
          "base_uri": "https://localhost:8080/"
        },
        "id": "RyoJQsn7W0x_",
        "outputId": "51fc56be-1299-4cae-df04-74792f3f1335"
      },
      "execution_count": 25,
      "outputs": [
        {
          "output_type": "execute_result",
          "data": {
            "text/plain": [
              "Data_Contratacao\n",
              "2024-02-14    24\n",
              "2024-01-15    18\n",
              "2023-12-16    16\n",
              "2023-11-16    31\n",
              "2023-10-17    17\n",
              "2023-09-17    26\n",
              "2023-08-18    20\n",
              "2023-07-19    22\n",
              "2023-06-19    18\n",
              "2023-05-20    21\n",
              "2023-04-20    20\n",
              "2023-03-21    15\n",
              "2023-02-19    22\n",
              "2023-01-20    16\n",
              "2022-12-21    13\n",
              "2022-11-21    18\n",
              "2022-10-22    21\n",
              "2022-09-22    18\n",
              "2022-08-23    20\n",
              "2022-07-24    23\n",
              "2022-06-24    23\n",
              "2022-05-25    15\n",
              "2022-04-25    15\n",
              "2022-03-26    22\n",
              "2022-02-24    21\n",
              "2022-01-25    18\n",
              "2021-12-26    19\n",
              "2021-11-26    21\n",
              "2021-10-27    19\n",
              "2021-09-27    23\n",
              "2021-08-28    25\n",
              "2021-07-29    12\n",
              "2021-06-29    18\n",
              "Name: count, dtype: int64"
            ]
          },
          "metadata": {},
          "execution_count": 25
        }
      ]
    },
    {
      "cell_type": "markdown",
      "source": [
        "# Virificando o tamanho do Data Frame"
      ],
      "metadata": {
        "id": "lXwB_dphQrhq"
      }
    },
    {
      "cell_type": "code",
      "source": [
        "df.shape\n",
        "\n"
      ],
      "metadata": {
        "colab": {
          "base_uri": "https://localhost:8080/"
        },
        "id": "Mhix_e4UQL4Q",
        "outputId": "a17d304f-8291-4af2-dab7-f985becdac0a"
      },
      "execution_count": 26,
      "outputs": [
        {
          "output_type": "execute_result",
          "data": {
            "text/plain": [
              "(650, 10)"
            ]
          },
          "metadata": {},
          "execution_count": 26
        }
      ]
    },
    {
      "cell_type": "markdown",
      "source": [
        "# verificar valores faltantes."
      ],
      "metadata": {
        "id": "96pngsB6RHQM"
      }
    },
    {
      "cell_type": "code",
      "source": [
        "df.isna().sum()"
      ],
      "metadata": {
        "colab": {
          "base_uri": "https://localhost:8080/"
        },
        "id": "1BruE-eIQWV7",
        "outputId": "5e4706ba-51f4-42cb-f175-aada069f8b31"
      },
      "execution_count": 27,
      "outputs": [
        {
          "output_type": "execute_result",
          "data": {
            "text/plain": [
              "Data_Contratacao        0\n",
              "Data_Desligamento       0\n",
              "Meses_de_Servico        0\n",
              "Idade                   0\n",
              "Pontuacao_Desempenho    0\n",
              "Satisfacao_Trabalho     0\n",
              "Nivel_Cargo             0\n",
              "Salario                 0\n",
              "Horas_Extras            0\n",
              "Desligamento            0\n",
              "dtype: int64"
            ]
          },
          "metadata": {},
          "execution_count": 27
        }
      ]
    },
    {
      "cell_type": "code",
      "source": [
        "df['Pontuacao_Desempenho'].describe()"
      ],
      "metadata": {
        "colab": {
          "base_uri": "https://localhost:8080/"
        },
        "id": "wWTPooExYVEl",
        "outputId": "44c4bc8a-8cdd-4ccf-ba3b-2d6468e5ccc2"
      },
      "execution_count": 28,
      "outputs": [
        {
          "output_type": "execute_result",
          "data": {
            "text/plain": [
              "count    650.000000\n",
              "mean       3.027463\n",
              "std        1.174226\n",
              "min        1.000242\n",
              "25%        1.988753\n",
              "50%        3.058911\n",
              "75%        4.022709\n",
              "max        4.992102\n",
              "Name: Pontuacao_Desempenho, dtype: float64"
            ]
          },
          "metadata": {},
          "execution_count": 28
        }
      ]
    },
    {
      "cell_type": "code",
      "source": [
        "\n",
        "\n",
        "df['Desligamento'].value_counts().plot(kind='bar')\n",
        "plt.title('Gráfico de Desligamentos')\n",
        "plt.xlabel('Tipo de Desligamento')\n",
        "plt.ylabel('Quantidade')\n",
        "plt.show()\n"
      ],
      "metadata": {
        "colab": {
          "base_uri": "https://localhost:8080/",
          "height": 467
        },
        "id": "G0YPJ02pQgTN",
        "outputId": "3be7ce7d-f928-481e-d361-37518cc58b4c"
      },
      "execution_count": 29,
      "outputs": [
        {
          "output_type": "display_data",
          "data": {
            "text/plain": [
              "<Figure size 640x480 with 1 Axes>"
            ],
            "image/png": "[encoded data removed]"
          },
          "metadata": {}
        }
      ]
    },
    {
      "cell_type": "code",
      "source": [
        "\n",
        "\n",
        "\n",
        "ordem_niveis_cargo = sorted(df['Nivel_Cargo'].unique())\n",
        "\n",
        "# Criando o gráfico de caixas\n",
        "plt.figure(figsize=(10, 6))  # Define o tamanho da figura\n",
        "sns.boxplot(data=df, x='Nivel_Cargo', y='Idade', order=ordem_niveis_cargo)\n",
        "plt.title('Distribuição da Idade por Nível de Cargo')\n",
        "plt.xlabel('Nível de Cargo')\n",
        "plt.ylabel('Idade')\n",
        "plt.xticks(rotation=45)  # Rotaciona os rótulos do eixo x para facilitar a leitura\n",
        "plt.grid(True)  # Adiciona grade ao gráfico para facilitar a visualização\n",
        "plt.show()\n"
      ],
      "metadata": {
        "colab": {
          "base_uri": "https://localhost:8080/",
          "height": 592
        },
        "id": "pz7TC6DMT3Dx",
        "outputId": "b614c207-3fab-4d94-e5d6-97b3745534a9"
      },
      "execution_count": 30,
      "outputs": [
        {
          "output_type": "display_data",
          "data": {
            "text/plain": [
              "<Figure size 1000x600 with 1 Axes>"
            ],
            "image/png": "[encoded data removed]"
          },
          "metadata": {}
        }
      ]
    },
    {
      "cell_type": "code",
      "source": [],
      "metadata": {
        "id": "3huKvHQZagtT"
      },
      "execution_count": 30,
      "outputs": []
    },
    {
      "cell_type": "code",
      "source": [],
      "metadata": {
        "id": "wIofZfB8adpz"
      },
      "execution_count": 30,
      "outputs": []
    },
    {
      "cell_type": "markdown",
      "source": [
        "# Treinamendo ML"
      ],
      "metadata": {
        "id": "5vQUF94qafhy"
      }
    },
    {
      "cell_type": "code",
      "source": [
        "df_pediram_a_conta.head()"
      ],
      "metadata": {
        "colab": {
          "base_uri": "https://localhost:8080/",
          "height": 226
        },
        "id": "rLVJzFDRa10s",
        "outputId": "df22c1ae-fb8d-4711-dc28-83bfe415d166"
      },
      "execution_count": 31,
      "outputs": [
        {
          "output_type": "execute_result",
          "data": {
            "text/plain": [
              "   Data_Contratacao Data_Desligamento  Meses_de_Servico  Idade  \\\n",
              "1        2023-11-16        2024-05-14                 6     43   \n",
              "5        2022-05-25        2024-05-14                24     43   \n",
              "7        2023-08-18        2024-05-14                 9     30   \n",
              "12       2022-03-26        2024-05-14                26     28   \n",
              "20       2022-10-22        2024-05-14                19     27   \n",
              "\n",
              "    Pontuacao_Desempenho  Satisfacao_Trabalho Nivel_Cargo   Salario  \\\n",
              "1               3.256257             1.711719      Sênior   8798.34   \n",
              "5               4.328231             3.209761      Sênior  10466.00   \n",
              "7               1.086755             1.908626       Pleno   6058.88   \n",
              "12              2.733115             1.820046       Pleno   7252.12   \n",
              "20              4.123725             4.465835       Pleno   7359.37   \n",
              "\n",
              "    Horas_Extras  Desligamento  \n",
              "1           19.0             1  \n",
              "5           14.0             1  \n",
              "7           14.0             1  \n",
              "12           6.0             1  \n",
              "20           2.0             1  "
            ],
            "text/html": [
              "\n",
              "  <div id=\"df-8348411b-88d9-462b-bd79-058742853d53\" class=\"colab-df-container\">\n",
              "    <div>\n",
              "<style scoped>\n",
              "    .dataframe tbody tr th:only-of-type {\n",
              "        vertical-align: middle;\n",
              "    }\n",
              "\n",
              "    .dataframe tbody tr th {\n",
              "        vertical-align: top;\n",
              "    }\n",
              "\n",
              "    .dataframe thead th {\n",
              "        text-align: right;\n",
              "    }\n",
              "</style>\n",
              "<table border=\"1\" class=\"dataframe\">\n",
              "  <thead>\n",
              "    <tr style=\"text-align: right;\">\n",
              "      <th></th>\n",
              "      <th>Data_Contratacao</th>\n",
              "      <th>Data_Desligamento</th>\n",
              "      <th>Meses_de_Servico</th>\n",
              "      <th>Idade</th>\n",
              "      <th>Pontuacao_Desempenho</th>\n",
              "      <th>Satisfacao_Trabalho</th>\n",
              "      <th>Nivel_Cargo</th>\n",
              "      <th>Salario</th>\n",
              "      <th>Horas_Extras</th>\n",
              "      <th>Desligamento</th>\n",
              "    </tr>\n",
              "  </thead>\n",
              "  <tbody>\n",
              "    <tr>\n",
              "      <th>1</th>\n",
              "      <td>2023-11-16</td>\n",
              "      <td>2024-05-14</td>\n",
              "      <td>6</td>\n",
              "      <td>43</td>\n",
              "      <td>3.256257</td>\n",
              "      <td>1.711719</td>\n",
              "      <td>Sênior</td>\n",
              "      <td>8798.34</td>\n",
              "      <td>19.0</td>\n",
              "      <td>1</td>\n",
              "    </tr>\n",
              "    <tr>\n",
              "      <th>5</th>\n",
              "      <td>2022-05-25</td>\n",
              "      <td>2024-05-14</td>\n",
              "      <td>24</td>\n",
              "      <td>43</td>\n",
              "      <td>4.328231</td>\n",
              "      <td>3.209761</td>\n",
              "      <td>Sênior</td>\n",
              "      <td>10466.00</td>\n",
              "      <td>14.0</td>\n",
              "      <td>1</td>\n",
              "    </tr>\n",
              "    <tr>\n",
              "      <th>7</th>\n",
              "      <td>2023-08-18</td>\n",
              "      <td>2024-05-14</td>\n",
              "      <td>9</td>\n",
              "      <td>30</td>\n",
              "      <td>1.086755</td>\n",
              "      <td>1.908626</td>\n",
              "      <td>Pleno</td>\n",
              "      <td>6058.88</td>\n",
              "      <td>14.0</td>\n",
              "      <td>1</td>\n",
              "    </tr>\n",
              "    <tr>\n",
              "      <th>12</th>\n",
              "      <td>2022-03-26</td>\n",
              "      <td>2024-05-14</td>\n",
              "      <td>26</td>\n",
              "      <td>28</td>\n",
              "      <td>2.733115</td>\n",
              "      <td>1.820046</td>\n",
              "      <td>Pleno</td>\n",
              "      <td>7252.12</td>\n",
              "      <td>6.0</td>\n",
              "      <td>1</td>\n",
              "    </tr>\n",
              "    <tr>\n",
              "      <th>20</th>\n",
              "      <td>2022-10-22</td>\n",
              "      <td>2024-05-14</td>\n",
              "      <td>19</td>\n",
              "      <td>27</td>\n",
              "      <td>4.123725</td>\n",
              "      <td>4.465835</td>\n",
              "      <td>Pleno</td>\n",
              "      <td>7359.37</td>\n",
              "      <td>2.0</td>\n",
              "      <td>1</td>\n",
              "    </tr>\n",
              "  </tbody>\n",
              "</table>\n",
              "</div>\n",
              "    <div class=\"colab-df-buttons\">\n",
              "\n",
              "  <div class=\"colab-df-container\">\n",
              "    <button class=\"colab-df-convert\" onclick=\"convertToInteractive('df-8348411b-88d9-462b-bd79-058742853d53')\"\n",
              "            title=\"Convert this dataframe to an interactive table.\"\n",
              "            style=\"display:none;\">\n",
              "\n",
              "  <svg xmlns=\"http://www.w3.org/2000/svg\" height=\"24px\" viewBox=\"0 -960 960 960\">\n",
              "    <path d=\"M120-120v-720h720v720H120Zm60-500h600v-160H180v160Zm220 220h160v-160H400v160Zm0 220h160v-160H400v160ZM180-400h160v-160H180v160Zm440 0h160v-160H620v160ZM180-180h160v-160H180v160Zm440 0h160v-160H620v160Z\"/>\n",
              "  </svg>\n",
              "    </button>\n",
              "\n",
              "  <style>\n",
              "    .colab-df-container {\n",
              "      display:flex;\n",
              "      gap: 12px;\n",
              "    }\n",
              "\n",
              "    .colab-df-convert {\n",
              "      background-color: #E8F0FE;\n",
              "      border: none;\n",
              "      border-radius: 50%;\n",
              "      cursor: pointer;\n",
              "      display: none;\n",
              "      fill: #1967D2;\n",
              "      height: 32px;\n",
              "      padding: 0 0 0 0;\n",
              "      width: 32px;\n",
              "    }\n",
              "\n",
              "    .colab-df-convert:hover {\n",
              "      background-color: #E2EBFA;\n",
              "      box-shadow: 0px 1px 2px rgba(60, 64, 67, 0.3), 0px 1px 3px 1px rgba(60, 64, 67, 0.15);\n",
              "      fill: #174EA6;\n",
              "    }\n",
              "\n",
              "    .colab-df-buttons div {\n",
              "      margin-bottom: 4px;\n",
              "    }\n",
              "\n",
              "    [theme=dark] .colab-df-convert {\n",
              "      background-color: #3B4455;\n",
              "      fill: #D2E3FC;\n",
              "    }\n",
              "\n",
              "    [theme=dark] .colab-df-convert:hover {\n",
              "      background-color: #434B5C;\n",
              "      box-shadow: 0px 1px 3px 1px rgba(0, 0, 0, 0.15);\n",
              "      filter: drop-shadow(0px 1px 2px rgba(0, 0, 0, 0.3));\n",
              "      fill: #FFFFFF;\n",
              "    }\n",
              "  </style>\n",
              "\n",
              "    <script>\n",
              "      const buttonEl =\n",
              "        document.querySelector('#df-8348411b-88d9-462b-bd79-058742853d53 button.colab-df-convert');\n",
              "      buttonEl.style.display =\n",
              "        google.colab.kernel.accessAllowed ? 'block' : 'none';\n",
              "\n",
              "      async function convertToInteractive(key) {\n",
              "        const element = document.querySelector('#df-8348411b-88d9-462b-bd79-058742853d53');\n",
              "        const dataTable =\n",
              "          await google.colab.kernel.invokeFunction('convertToInteractive',\n",
              "                                                    [key], {});\n",
              "        if (!dataTable) return;\n",
              "\n",
              "        const docLinkHtml = 'Like what you see? Visit the ' +\n",
              "          '<a target=\"_blank\" href=https://colab.research.google.com/notebooks/data_table.ipynb>data table notebook</a>'\n",
              "          + ' to learn more about interactive tables.';\n",
              "        element.innerHTML = '';\n",
              "        dataTable['output_type'] = 'display_data';\n",
              "        await google.colab.output.renderOutput(dataTable, element);\n",
              "        const docLink = document.createElement('div');\n",
              "        docLink.innerHTML = docLinkHtml;\n",
              "        element.appendChild(docLink);\n",
              "      }\n",
              "    </script>\n",
              "  </div>\n",
              "\n",
              "\n",
              "<div id=\"df-9160259c-78af-4f5a-b298-a190e67c5441\">\n",
              "  <button class=\"colab-df-quickchart\" onclick=\"quickchart('df-9160259c-78af-4f5a-b298-a190e67c5441')\"\n",
              "            title=\"Suggest charts\"\n",
              "            style=\"display:none;\">\n",
              "\n",
              "<svg xmlns=\"http://www.w3.org/2000/svg\" height=\"24px\"viewBox=\"0 0 24 24\"\n",
              "     width=\"24px\">\n",
              "    <g>\n",
              "        <path d=\"M19 3H5c-1.1 0-2 .9-2 2v14c0 1.1.9 2 2 2h14c1.1 0 2-.9 2-2V5c0-1.1-.9-2-2-2zM9 17H7v-7h2v7zm4 0h-2V7h2v10zm4 0h-2v-4h2v4z\"/>\n",
              "    </g>\n",
              "</svg>\n",
              "  </button>\n",
              "\n",
              "<style>\n",
              "  .colab-df-quickchart {\n",
              "      --bg-color: #E8F0FE;\n",
              "      --fill-color: #1967D2;\n",
              "      --hover-bg-color: #E2EBFA;\n",
              "      --hover-fill-color: #174EA6;\n",
              "      --disabled-fill-color: #AAA;\n",
              "      --disabled-bg-color: #DDD;\n",
              "  }\n",
              "\n",
              "  [theme=dark] .colab-df-quickchart {\n",
              "      --bg-color: #3B4455;\n",
              "      --fill-color: #D2E3FC;\n",
              "      --hover-bg-color: #434B5C;\n",
              "      --hover-fill-color: #FFFFFF;\n",
              "      --disabled-bg-color: #3B4455;\n",
              "      --disabled-fill-color: #666;\n",
              "  }\n",
              "\n",
              "  .colab-df-quickchart {\n",
              "    background-color: var(--bg-color);\n",
              "    border: none;\n",
              "    border-radius: 50%;\n",
              "    cursor: pointer;\n",
              "    display: none;\n",
              "    fill: var(--fill-color);\n",
              "    height: 32px;\n",
              "    padding: 0;\n",
              "    width: 32px;\n",
              "  }\n",
              "\n",
              "  .colab-df-quickchart:hover {\n",
              "    background-color: var(--hover-bg-color);\n",
              "    box-shadow: 0 1px 2px rgba(60, 64, 67, 0.3), 0 1px 3px 1px rgba(60, 64, 67, 0.15);\n",
              "    fill: var(--button-hover-fill-color);\n",
              "  }\n",
              "\n",
              "  .colab-df-quickchart-complete:disabled,\n",
              "  .colab-df-quickchart-complete:disabled:hover {\n",
              "    background-color: var(--disabled-bg-color);\n",
              "    fill: var(--disabled-fill-color);\n",
              "    box-shadow: none;\n",
              "  }\n",
              "\n",
              "  .colab-df-spinner {\n",
              "    border: 2px solid var(--fill-color);\n",
              "    border-color: transparent;\n",
              "    border-bottom-color: var(--fill-color);\n",
              "    animation:\n",
              "      spin 1s steps(1) infinite;\n",
              "  }\n",
              "\n",
              "  @keyframes spin {\n",
              "    0% {\n",
              "      border-color: transparent;\n",
              "      border-bottom-color: var(--fill-color);\n",
              "      border-left-color: var(--fill-color);\n",
              "    }\n",
              "    20% {\n",
              "      border-color: transparent;\n",
              "      border-left-color: var(--fill-color);\n",
              "      border-top-color: var(--fill-color);\n",
              "    }\n",
              "    30% {\n",
              "      border-color: transparent;\n",
              "      border-left-color: var(--fill-color);\n",
              "      border-top-color: var(--fill-color);\n",
              "      border-right-color: var(--fill-color);\n",
              "    }\n",
              "    40% {\n",
              "      border-color: transparent;\n",
              "      border-right-color: var(--fill-color);\n",
              "      border-top-color: var(--fill-color);\n",
              "    }\n",
              "    60% {\n",
              "      border-color: transparent;\n",
              "      border-right-color: var(--fill-color);\n",
              "    }\n",
              "    80% {\n",
              "      border-color: transparent;\n",
              "      border-right-color: var(--fill-color);\n",
              "      border-bottom-color: var(--fill-color);\n",
              "    }\n",
              "    90% {\n",
              "      border-color: transparent;\n",
              "      border-bottom-color: var(--fill-color);\n",
              "    }\n",
              "  }\n",
              "</style>\n",
              "\n",
              "  <script>\n",
              "    async function quickchart(key) {\n",
              "      const quickchartButtonEl =\n",
              "        document.querySelector('#' + key + ' button');\n",
              "      quickchartButtonEl.disabled = true;  // To prevent multiple clicks.\n",
              "      quickchartButtonEl.classList.add('colab-df-spinner');\n",
              "      try {\n",
              "        const charts = await google.colab.kernel.invokeFunction(\n",
              "            'suggestCharts', [key], {});\n",
              "      } catch (error) {\n",
              "        console.error('Error during call to suggestCharts:', error);\n",
              "      }\n",
              "      quickchartButtonEl.classList.remove('colab-df-spinner');\n",
              "      quickchartButtonEl.classList.add('colab-df-quickchart-complete');\n",
              "    }\n",
              "    (() => {\n",
              "      let quickchartButtonEl =\n",
              "        document.querySelector('#df-9160259c-78af-4f5a-b298-a190e67c5441 button');\n",
              "      quickchartButtonEl.style.display =\n",
              "        google.colab.kernel.accessAllowed ? 'block' : 'none';\n",
              "    })();\n",
              "  </script>\n",
              "</div>\n",
              "\n",
              "    </div>\n",
              "  </div>\n"
            ],
            "application/vnd.google.colaboratory.intrinsic+json": {
              "type": "dataframe",
              "variable_name": "df_pediram_a_conta",
              "summary": "{\n  \"name\": \"df_pediram_a_conta\",\n  \"rows\": 144,\n  \"fields\": [\n    {\n      \"column\": \"Data_Contratacao\",\n      \"properties\": {\n        \"dtype\": \"date\",\n        \"min\": \"2021-06-29 00:00:00\",\n        \"max\": \"2024-02-14 00:00:00\",\n        \"num_unique_values\": 33,\n        \"samples\": [\n          \"2021-12-26 00:00:00\",\n          \"2023-01-20 00:00:00\",\n          \"2023-05-20 00:00:00\"\n        ],\n        \"semantic_type\": \"\",\n        \"description\": \"\"\n      }\n    },\n    {\n      \"column\": \"Data_Desligamento\",\n      \"properties\": {\n        \"dtype\": \"date\",\n        \"min\": \"2024-05-14 00:00:00\",\n        \"max\": \"2024-05-14 00:00:00\",\n        \"num_unique_values\": 1,\n        \"samples\": [\n          \"2024-05-14 00:00:00\"\n        ],\n        \"semantic_type\": \"\",\n        \"description\": \"\"\n      }\n    },\n    {\n      \"column\": \"Meses_de_Servico\",\n      \"properties\": {\n        \"dtype\": \"number\",\n        \"std\": 9,\n        \"min\": 3,\n        \"max\": 35,\n        \"num_unique_values\": 33,\n        \"samples\": [\n          29\n        ],\n        \"semantic_type\": \"\",\n        \"description\": \"\"\n      }\n    },\n    {\n      \"column\": \"Idade\",\n      \"properties\": {\n        \"dtype\": \"number\",\n        \"std\": 8,\n        \"min\": 18,\n        \"max\": 49,\n        \"num_unique_values\": 29,\n        \"samples\": [\n          46\n        ],\n        \"semantic_type\": \"\",\n        \"description\": \"\"\n      }\n    },\n    {\n      \"column\": \"Pontuacao_Desempenho\",\n      \"properties\": {\n        \"dtype\": \"number\",\n        \"std\": 1.1939505863839543,\n        \"min\": 1.004830286947395,\n        \"max\": 4.992101944794591,\n        \"num_unique_values\": 144,\n        \"samples\": [\n          4.147816575205866\n        ],\n        \"semantic_type\": \"\",\n        \"description\": \"\"\n      }\n    },\n    {\n      \"column\": \"Satisfacao_Trabalho\",\n      \"properties\": {\n        \"dtype\": \"number\",\n        \"std\": 1.1424955096512335,\n        \"min\": 1.002867838334448,\n        \"max\": 4.949533341110542,\n        \"num_unique_values\": 144,\n        \"samples\": [\n          4.363966109127499\n        ],\n        \"semantic_type\": \"\",\n        \"description\": \"\"\n      }\n    },\n    {\n      \"column\": \"Nivel_Cargo\",\n      \"properties\": {\n        \"dtype\": \"category\",\n        \"num_unique_values\": 3,\n        \"samples\": [\n          \"S\\u00eanior\"\n        ],\n        \"semantic_type\": \"\",\n        \"description\": \"\"\n      }\n    },\n    {\n      \"column\": \"Salario\",\n      \"properties\": {\n        \"dtype\": \"number\",\n        \"std\": 2751.3457242371996,\n        \"min\": 2013.19,\n        \"max\": 11932.74,\n        \"num_unique_values\": 144,\n        \"samples\": [\n          7068.59\n        ],\n        \"semantic_type\": \"\",\n        \"description\": \"\"\n      }\n    },\n    {\n      \"column\": \"Horas_Extras\",\n      \"properties\": {\n        \"dtype\": \"number\",\n        \"std\": 7.714895933816558,\n        \"min\": 0.0,\n        \"max\": 42.0,\n        \"num_unique_values\": 31,\n        \"samples\": [\n          23.0\n        ],\n        \"semantic_type\": \"\",\n        \"description\": \"\"\n      }\n    },\n    {\n      \"column\": \"Desligamento\",\n      \"properties\": {\n        \"dtype\": \"number\",\n        \"std\": 0,\n        \"min\": 1,\n        \"max\": 1,\n        \"num_unique_values\": 1,\n        \"samples\": [\n          1\n        ],\n        \"semantic_type\": \"\",\n        \"description\": \"\"\n      }\n    }\n  ]\n}"
            }
          },
          "metadata": {},
          "execution_count": 31
        }
      ]
    },
    {
      "cell_type": "code",
      "source": [
        "!pip install optuna"
      ],
      "metadata": {
        "colab": {
          "base_uri": "https://localhost:8080/"
        },
        "id": "NkMnqeidkLcA",
        "outputId": "0e387f1f-23a3-48b3-b2cd-32c7c97b21af"
      },
      "execution_count": 103,
      "outputs": [
        {
          "output_type": "stream",
          "name": "stdout",
          "text": [
            "Collecting optuna\n",
            "  Downloading optuna-3.6.1-py3-none-any.whl (380 kB)\n",
            "\u001b[2K     \u001b[90m━━━━━━━━━━━━━━━━━━━━━━━━━━━━━━━━━━━━━━━━\u001b[0m \u001b[32m380.1/380.1 kB\u001b[0m \u001b[31m4.9 MB/s\u001b[0m eta \u001b[36m0:00:00\u001b[0m\n",
            "\u001b[?25hCollecting alembic>=1.5.0 (from optuna)\n",
            "  Downloading alembic-1.13.1-py3-none-any.whl (233 kB)\n",
            "\u001b[2K     \u001b[90m━━━━━━━━━━━━━━━━━━━━━━━━━━━━━━━━━━━━━━━━\u001b[0m \u001b[32m233.4/233.4 kB\u001b[0m \u001b[31m12.0 MB/s\u001b[0m eta \u001b[36m0:00:00\u001b[0m\n",
            "\u001b[?25hCollecting colorlog (from optuna)\n",
            "  Downloading colorlog-6.8.2-py3-none-any.whl (11 kB)\n",
            "Requirement already satisfied: numpy in /usr/local/lib/python3.10/dist-packages (from optuna) (1.25.2)\n",
            "Requirement already satisfied: packaging>=20.0 in /usr/local/lib/python3.10/dist-packages (from optuna) (24.0)\n",
            "Requirement already satisfied: sqlalchemy>=1.3.0 in /usr/local/lib/python3.10/dist-packages (from optuna) (2.0.30)\n",
            "Requirement already satisfied: tqdm in /usr/local/lib/python3.10/dist-packages (from optuna) (4.66.4)\n",
            "Requirement already satisfied: PyYAML in /usr/local/lib/python3.10/dist-packages (from optuna) (6.0.1)\n",
            "Collecting Mako (from alembic>=1.5.0->optuna)\n",
            "  Downloading Mako-1.3.5-py3-none-any.whl (78 kB)\n",
            "\u001b[2K     \u001b[90m━━━━━━━━━━━━━━━━━━━━━━━━━━━━━━━━━━━━━━━━\u001b[0m \u001b[32m78.6/78.6 kB\u001b[0m \u001b[31m7.2 MB/s\u001b[0m eta \u001b[36m0:00:00\u001b[0m\n",
            "\u001b[?25hRequirement already satisfied: typing-extensions>=4 in /usr/local/lib/python3.10/dist-packages (from alembic>=1.5.0->optuna) (4.11.0)\n",
            "Requirement already satisfied: greenlet!=0.4.17 in /usr/local/lib/python3.10/dist-packages (from sqlalchemy>=1.3.0->optuna) (3.0.3)\n",
            "Requirement already satisfied: MarkupSafe>=0.9.2 in /usr/local/lib/python3.10/dist-packages (from Mako->alembic>=1.5.0->optuna) (2.1.5)\n",
            "Installing collected packages: Mako, colorlog, alembic, optuna\n",
            "Successfully installed Mako-1.3.5 alembic-1.13.1 colorlog-6.8.2 optuna-3.6.1\n"
          ]
        }
      ]
    },
    {
      "cell_type": "code",
      "source": [
        "!pip install category_encoders"
      ],
      "metadata": {
        "colab": {
          "base_uri": "https://localhost:8080/"
        },
        "id": "abR2_kvEkNl7",
        "outputId": "c3c86b9e-f62a-40bf-c90c-edc887bce91a"
      },
      "execution_count": 104,
      "outputs": [
        {
          "output_type": "stream",
          "name": "stdout",
          "text": [
            "Collecting category_encoders\n",
            "  Downloading category_encoders-2.6.3-py2.py3-none-any.whl (81 kB)\n",
            "\u001b[?25l     \u001b[90m━━━━━━━━━━━━━━━━━━━━━━━━━━━━━━━━━━━━━━━━\u001b[0m \u001b[32m0.0/81.9 kB\u001b[0m \u001b[31m?\u001b[0m eta \u001b[36m-:--:--\u001b[0m\r\u001b[2K     \u001b[90m━━━━━━━━━━━━━━━━━━━━━━━━━━━━━━━━━━━━━━━━\u001b[0m \u001b[32m81.9/81.9 kB\u001b[0m \u001b[31m2.2 MB/s\u001b[0m eta \u001b[36m0:00:00\u001b[0m\n",
            "\u001b[?25hRequirement already satisfied: numpy>=1.14.0 in /usr/local/lib/python3.10/dist-packages (from category_encoders) (1.25.2)\n",
            "Requirement already satisfied: scikit-learn>=0.20.0 in /usr/local/lib/python3.10/dist-packages (from category_encoders) (1.2.2)\n",
            "Requirement already satisfied: scipy>=1.0.0 in /usr/local/lib/python3.10/dist-packages (from category_encoders) (1.11.4)\n",
            "Requirement already satisfied: statsmodels>=0.9.0 in /usr/local/lib/python3.10/dist-packages (from category_encoders) (0.14.2)\n",
            "Requirement already satisfied: pandas>=1.0.5 in /usr/local/lib/python3.10/dist-packages (from category_encoders) (2.0.3)\n",
            "Requirement already satisfied: patsy>=0.5.1 in /usr/local/lib/python3.10/dist-packages (from category_encoders) (0.5.6)\n",
            "Requirement already satisfied: python-dateutil>=2.8.2 in /usr/local/lib/python3.10/dist-packages (from pandas>=1.0.5->category_encoders) (2.8.2)\n",
            "Requirement already satisfied: pytz>=2020.1 in /usr/local/lib/python3.10/dist-packages (from pandas>=1.0.5->category_encoders) (2023.4)\n",
            "Requirement already satisfied: tzdata>=2022.1 in /usr/local/lib/python3.10/dist-packages (from pandas>=1.0.5->category_encoders) (2024.1)\n",
            "Requirement already satisfied: six in /usr/local/lib/python3.10/dist-packages (from patsy>=0.5.1->category_encoders) (1.16.0)\n",
            "Requirement already satisfied: joblib>=1.1.1 in /usr/local/lib/python3.10/dist-packages (from scikit-learn>=0.20.0->category_encoders) (1.4.2)\n",
            "Requirement already satisfied: threadpoolctl>=2.0.0 in /usr/local/lib/python3.10/dist-packages (from scikit-learn>=0.20.0->category_encoders) (3.5.0)\n",
            "Requirement already satisfied: packaging>=21.3 in /usr/local/lib/python3.10/dist-packages (from statsmodels>=0.9.0->category_encoders) (24.0)\n",
            "Installing collected packages: category_encoders\n",
            "Successfully installed category_encoders-2.6.3\n"
          ]
        }
      ]
    },
    {
      "cell_type": "code",
      "source": [
        "import numpy as np\n",
        "import pandas as pd\n",
        "from sklearn.model_selection import StratifiedKFold\n",
        "from category_encoders import OrdinalEncoder\n",
        "from sklearn.metrics import roc_auc_score, f1_score\n",
        "from xgboost import XGBClassifier\n",
        "import optuna\n",
        "from sklearn.naive_bayes import GaussianNB, BernoulliNB\n",
        "from sklearn.svm import SVC\n",
        "from sklearn.ensemble import RandomForestClassifier, GradientBoostingClassifier\n",
        "from sklearn.neighbors import KNeighborsClassifier\n",
        "from sklearn.linear_model import LogisticRegression\n",
        "from sklearn.tree import DecisionTreeClassifier, ExtraTreeRegressor\n",
        "import xgboost as xgb"
      ],
      "metadata": {
        "id": "0Gc0wSMUalJz"
      },
      "execution_count": 105,
      "outputs": []
    },
    {
      "cell_type": "code",
      "source": [
        "df.columns\n"
      ],
      "metadata": {
        "colab": {
          "base_uri": "https://localhost:8080/"
        },
        "id": "70dMYWVXkxTL",
        "outputId": "b488ad34-1fdb-4a0f-ea27-64b1a934328f"
      },
      "execution_count": 108,
      "outputs": [
        {
          "output_type": "execute_result",
          "data": {
            "text/plain": [
              "Index(['Data_Contratacao', 'Data_Desligamento', 'Meses_de_Servico', 'Idade',\n",
              "       'Pontuacao_Desempenho', 'Satisfacao_Trabalho', 'Nivel_Cargo', 'Salario',\n",
              "       'Horas_Extras', 'Desligamento'],\n",
              "      dtype='object')"
            ]
          },
          "metadata": {},
          "execution_count": 108
        }
      ]
    },
    {
      "cell_type": "code",
      "source": [
        "# Separate features and target\n",
        "Xtrain = df.drop(['Desligamento'], axis=1)\n",
        "ytrain = df['Desligamento']\n",
        "\n",
        "# Define the columns to encode\n",
        "columns_to_encode = ['Data_Contratacao', 'Data_Desligamento', 'Meses_de_Servico', 'Idade',\n",
        "       'Pontuacao_Desempenho', 'Satisfacao_Trabalho', 'Nivel_Cargo', 'Salario',\n",
        "       'Horas_Extras']\n",
        "\n",
        "def objective(trial):\n",
        "        learning_rate = trial.suggest_float('learning_rate', 1e-3, 1e-1, log=True)\n",
        "        max_depth = trial.suggest_int('max_depth', 1, 10)\n",
        "        subsample = trial.suggest_float('subsample', 0.5, 1, step=0.1)\n",
        "        colsample_bytree = trial.suggest_float('colsample_bytree', 0.5, 1, step=0.1)\n",
        "        min_child_weight = trial.suggest_int('min_child_weight', 1, 10)\n",
        "\n",
        "        avg_roc = 0\n",
        "        avg_f1 = 0\n",
        "        kf = StratifiedKFold(n_splits=5, shuffle=True, random_state=42)\n",
        "\n",
        "        for tr, ts in kf.split(Xtrain, ytrain):\n",
        "            Xtr, Xvl = Xtrain.iloc[tr], Xtrain.iloc[ts]\n",
        "            ytr, yvl = ytrain.iloc[tr], ytrain.iloc[ts]\n",
        "\n",
        "            encoder = OrdinalEncoder(cols=columns_to_encode)\n",
        "            Xtr = encoder.fit_transform(Xtr)\n",
        "            Xvl = encoder.transform(Xvl)\n",
        "\n",
        "            scale_pos_weight = ytr.value_counts()[0] / ytr.value_counts()[1]\n",
        "\n",
        "            mdl = XGBClassifier(n_estimators=1000, learning_rate=learning_rate,\n",
        "                                max_depth=max_depth, subsample=subsample, colsample_bytree=colsample_bytree,\n",
        "                                min_child_weight=min_child_weight, scale_pos_weight=scale_pos_weight,\n",
        "                                random_state=0, n_jobs=-1)\n",
        "        mdl.fit(Xtr, ytr)\n",
        "        p = mdl.predict_proba(Xvl)[:, 1]\n",
        "        avg_roc += roc_auc_score(yvl, p)\n",
        "\n",
        "        f1_66_th = np.percentile(p, 100 - 67)\n",
        "        avg_f1 += f1_score(yvl, p > f1_66_th)\n",
        "\n",
        "        print('avg roc:', avg_roc / 5)\n",
        "        print('avg f1:', avg_f1 / 5)\n",
        "        return avg_roc / 5\n",
        "\n",
        "study = optuna.create_study(direction='maximize')\n",
        "study.optimize(objective, n_trials=20)"
      ],
      "metadata": {
        "colab": {
          "base_uri": "https://localhost:8080/"
        },
        "id": "j6rA5Rg5jqpT",
        "outputId": "54041e5e-fde6-4781-9b57-2a386f02739f"
      },
      "execution_count": 109,
      "outputs": [
        {
          "output_type": "stream",
          "name": "stderr",
          "text": [
            "[I 2024-05-22 09:13:34,259] A new study created in memory with name: no-name-bd32b4d7-5983-49f6-bf06-0f00444d7113\n",
            "[I 2024-05-22 09:13:34,815] Trial 0 finished with value: 0.2 and parameters: {'learning_rate': 0.02260707761193653, 'max_depth': 2, 'subsample': 0.5, 'colsample_bytree': 0.9, 'min_child_weight': 8}. Best is trial 0 with value: 0.2.\n"
          ]
        },
        {
          "output_type": "stream",
          "name": "stdout",
          "text": [
            "avg roc: 0.2\n",
            "avg f1: 0.1\n"
          ]
        },
        {
          "output_type": "stream",
          "name": "stderr",
          "text": [
            "[I 2024-05-22 09:13:35,370] Trial 1 finished with value: 0.2 and parameters: {'learning_rate': 0.006191842605586804, 'max_depth': 2, 'subsample': 0.7, 'colsample_bytree': 0.5, 'min_child_weight': 1}. Best is trial 0 with value: 0.2.\n"
          ]
        },
        {
          "output_type": "stream",
          "name": "stdout",
          "text": [
            "avg roc: 0.2\n",
            "avg f1: 0.1\n"
          ]
        },
        {
          "output_type": "stream",
          "name": "stderr",
          "text": [
            "[I 2024-05-22 09:13:35,937] Trial 2 finished with value: 0.2 and parameters: {'learning_rate': 0.01080161637291708, 'max_depth': 9, 'subsample': 0.6, 'colsample_bytree': 0.9, 'min_child_weight': 1}. Best is trial 0 with value: 0.2.\n"
          ]
        },
        {
          "output_type": "stream",
          "name": "stdout",
          "text": [
            "avg roc: 0.2\n",
            "avg f1: 0.1\n"
          ]
        },
        {
          "output_type": "stream",
          "name": "stderr",
          "text": [
            "[I 2024-05-22 09:13:36,499] Trial 3 finished with value: 0.2 and parameters: {'learning_rate': 0.005662644092314323, 'max_depth': 1, 'subsample': 0.7, 'colsample_bytree': 0.9, 'min_child_weight': 1}. Best is trial 0 with value: 0.2.\n"
          ]
        },
        {
          "output_type": "stream",
          "name": "stdout",
          "text": [
            "avg roc: 0.2\n",
            "avg f1: 0.1\n"
          ]
        },
        {
          "output_type": "stream",
          "name": "stderr",
          "text": [
            "[I 2024-05-22 09:13:37,177] Trial 4 finished with value: 0.2 and parameters: {'learning_rate': 0.003648751028513943, 'max_depth': 6, 'subsample': 1.0, 'colsample_bytree': 0.5, 'min_child_weight': 6}. Best is trial 0 with value: 0.2.\n"
          ]
        },
        {
          "output_type": "stream",
          "name": "stdout",
          "text": [
            "avg roc: 0.2\n",
            "avg f1: 0.1\n"
          ]
        },
        {
          "output_type": "stream",
          "name": "stderr",
          "text": [
            "[I 2024-05-22 09:13:37,798] Trial 5 finished with value: 0.2 and parameters: {'learning_rate': 0.002015117841564941, 'max_depth': 3, 'subsample': 0.7, 'colsample_bytree': 0.8, 'min_child_weight': 8}. Best is trial 0 with value: 0.2.\n"
          ]
        },
        {
          "output_type": "stream",
          "name": "stdout",
          "text": [
            "avg roc: 0.2\n",
            "avg f1: 0.1\n"
          ]
        },
        {
          "output_type": "stream",
          "name": "stderr",
          "text": [
            "[I 2024-05-22 09:13:38,393] Trial 6 finished with value: 0.2 and parameters: {'learning_rate': 0.005156616912255793, 'max_depth': 6, 'subsample': 0.6, 'colsample_bytree': 0.7, 'min_child_weight': 5}. Best is trial 0 with value: 0.2.\n"
          ]
        },
        {
          "output_type": "stream",
          "name": "stdout",
          "text": [
            "avg roc: 0.2\n",
            "avg f1: 0.1\n"
          ]
        },
        {
          "output_type": "stream",
          "name": "stderr",
          "text": [
            "[I 2024-05-22 09:13:38,950] Trial 7 finished with value: 0.2 and parameters: {'learning_rate': 0.014600637680287576, 'max_depth': 5, 'subsample': 0.5, 'colsample_bytree': 0.9, 'min_child_weight': 2}. Best is trial 0 with value: 0.2.\n"
          ]
        },
        {
          "output_type": "stream",
          "name": "stdout",
          "text": [
            "avg roc: 0.2\n",
            "avg f1: 0.1\n"
          ]
        },
        {
          "output_type": "stream",
          "name": "stderr",
          "text": [
            "[I 2024-05-22 09:13:39,470] Trial 8 finished with value: 0.2 and parameters: {'learning_rate': 0.019012932634788118, 'max_depth': 6, 'subsample': 1.0, 'colsample_bytree': 0.8, 'min_child_weight': 6}. Best is trial 0 with value: 0.2.\n"
          ]
        },
        {
          "output_type": "stream",
          "name": "stdout",
          "text": [
            "avg roc: 0.2\n",
            "avg f1: 0.1\n"
          ]
        },
        {
          "output_type": "stream",
          "name": "stderr",
          "text": [
            "[I 2024-05-22 09:13:40,039] Trial 9 finished with value: 0.2 and parameters: {'learning_rate': 0.006688906512908339, 'max_depth': 6, 'subsample': 0.6, 'colsample_bytree': 0.6, 'min_child_weight': 9}. Best is trial 0 with value: 0.2.\n"
          ]
        },
        {
          "output_type": "stream",
          "name": "stdout",
          "text": [
            "avg roc: 0.2\n",
            "avg f1: 0.1\n"
          ]
        },
        {
          "output_type": "stream",
          "name": "stderr",
          "text": [
            "[I 2024-05-22 09:13:40,570] Trial 10 finished with value: 0.2 and parameters: {'learning_rate': 0.07019680868687166, 'max_depth': 10, 'subsample': 0.9, 'colsample_bytree': 1.0, 'min_child_weight': 10}. Best is trial 0 with value: 0.2.\n"
          ]
        },
        {
          "output_type": "stream",
          "name": "stdout",
          "text": [
            "avg roc: 0.2\n",
            "avg f1: 0.2\n"
          ]
        },
        {
          "output_type": "stream",
          "name": "stderr",
          "text": [
            "[I 2024-05-22 09:13:41,176] Trial 11 finished with value: 0.2 and parameters: {'learning_rate': 0.036407573556651994, 'max_depth': 1, 'subsample': 0.8, 'colsample_bytree': 0.5, 'min_child_weight': 4}. Best is trial 0 with value: 0.2.\n"
          ]
        },
        {
          "output_type": "stream",
          "name": "stdout",
          "text": [
            "avg roc: 0.2\n",
            "avg f1: 0.1\n"
          ]
        },
        {
          "output_type": "stream",
          "name": "stderr",
          "text": [
            "[I 2024-05-22 09:13:41,874] Trial 12 finished with value: 0.2 and parameters: {'learning_rate': 0.0012767379551174318, 'max_depth': 3, 'subsample': 0.5, 'colsample_bytree': 0.7, 'min_child_weight': 8}. Best is trial 0 with value: 0.2.\n"
          ]
        },
        {
          "output_type": "stream",
          "name": "stdout",
          "text": [
            "avg roc: 0.2\n",
            "avg f1: 0.1\n"
          ]
        },
        {
          "output_type": "stream",
          "name": "stderr",
          "text": [
            "[I 2024-05-22 09:13:43,449] Trial 13 finished with value: 0.2 and parameters: {'learning_rate': 0.027345796617254073, 'max_depth': 3, 'subsample': 0.8, 'colsample_bytree': 1.0, 'min_child_weight': 3}. Best is trial 0 with value: 0.2.\n"
          ]
        },
        {
          "output_type": "stream",
          "name": "stdout",
          "text": [
            "avg roc: 0.2\n",
            "avg f1: 0.1045045045045045\n"
          ]
        },
        {
          "output_type": "stream",
          "name": "stderr",
          "text": [
            "[I 2024-05-22 09:13:45,315] Trial 14 finished with value: 0.2 and parameters: {'learning_rate': 0.057649179460599866, 'max_depth': 2, 'subsample': 0.5, 'colsample_bytree': 0.6, 'min_child_weight': 7}. Best is trial 0 with value: 0.2.\n"
          ]
        },
        {
          "output_type": "stream",
          "name": "stdout",
          "text": [
            "avg roc: 0.2\n",
            "avg f1: 0.1008695652173913\n"
          ]
        },
        {
          "output_type": "stream",
          "name": "stderr",
          "text": [
            "[I 2024-05-22 09:13:45,986] Trial 15 finished with value: 0.2 and parameters: {'learning_rate': 0.0024229990095982227, 'max_depth': 4, 'subsample': 0.7, 'colsample_bytree': 0.6, 'min_child_weight': 4}. Best is trial 0 with value: 0.2.\n"
          ]
        },
        {
          "output_type": "stream",
          "name": "stdout",
          "text": [
            "avg roc: 0.2\n",
            "avg f1: 0.1\n"
          ]
        },
        {
          "output_type": "stream",
          "name": "stderr",
          "text": [
            "[I 2024-05-22 09:13:46,528] Trial 16 finished with value: 0.19999999999999998 and parameters: {'learning_rate': 0.00877853620580656, 'max_depth': 1, 'subsample': 0.9, 'colsample_bytree': 0.8, 'min_child_weight': 8}. Best is trial 0 with value: 0.2.\n"
          ]
        },
        {
          "output_type": "stream",
          "name": "stdout",
          "text": [
            "avg roc: 0.19999999999999998\n",
            "avg f1: 0.1008695652173913\n"
          ]
        },
        {
          "output_type": "stream",
          "name": "stderr",
          "text": [
            "[I 2024-05-22 09:13:47,082] Trial 17 finished with value: 0.2 and parameters: {'learning_rate': 0.03002307574789291, 'max_depth': 4, 'subsample': 0.6, 'colsample_bytree': 0.7, 'min_child_weight': 10}. Best is trial 0 with value: 0.2.\n"
          ]
        },
        {
          "output_type": "stream",
          "name": "stdout",
          "text": [
            "avg roc: 0.2\n",
            "avg f1: 0.1\n"
          ]
        },
        {
          "output_type": "stream",
          "name": "stderr",
          "text": [
            "[I 2024-05-22 09:13:47,619] Trial 18 finished with value: 0.2 and parameters: {'learning_rate': 0.015538791966486805, 'max_depth': 8, 'subsample': 0.8, 'colsample_bytree': 0.9, 'min_child_weight': 5}. Best is trial 0 with value: 0.2.\n"
          ]
        },
        {
          "output_type": "stream",
          "name": "stdout",
          "text": [
            "avg roc: 0.2\n",
            "avg f1: 0.1\n"
          ]
        },
        {
          "output_type": "stream",
          "name": "stderr",
          "text": [
            "[I 2024-05-22 09:13:48,180] Trial 19 finished with value: 0.2 and parameters: {'learning_rate': 0.08964807133533388, 'max_depth': 2, 'subsample': 0.5, 'colsample_bytree': 0.5, 'min_child_weight': 7}. Best is trial 0 with value: 0.2.\n"
          ]
        },
        {
          "output_type": "stream",
          "name": "stdout",
          "text": [
            "avg roc: 0.2\n",
            "avg f1: 0.1008695652173913\n"
          ]
        }
      ]
    },
    {
      "cell_type": "code",
      "source": [
        "\n",
        "\n",
        "# Separate features and target\n",
        "Xtrain = df.drop(['Desligamento'], axis=1)\n",
        "ytrain = df['Desligamento']\n",
        "\n",
        "# Define the columns to encode\n",
        "columns_to_encode = ['Data_Contratacao', 'Data_Desligamento', 'Meses_de_Servico', 'Idade',\n",
        "                     'Pontuacao_Desempenho', 'Satisfacao_Trabalho', 'Nivel_Cargo', 'Salario',\n",
        "                     'Horas_Extras']\n",
        "\n",
        "def objective(trial):\n",
        "    learning_rate = trial.suggest_float('learning_rate', 1e-3, 1e-1, log=True)\n",
        "    max_depth = trial.suggest_int('max_depth', 1, 10)\n",
        "    subsample = trial.suggest_float('subsample', 0.5, 1, step=0.1)\n",
        "    colsample_bytree = trial.suggest_float('colsample_bytree', 0.5, 1, step=0.1)\n",
        "    min_child_weight = trial.suggest_int('min_child_weight', 1, 10)\n",
        "\n",
        "    avg_roc = 0\n",
        "    avg_f1 = 0\n",
        "    kf = StratifiedKFold(n_splits=5, shuffle=True, random_state=42)\n",
        "\n",
        "    for tr, ts in kf.split(Xtrain, ytrain):\n",
        "        Xtr, Xvl = Xtrain.iloc[tr], Xtrain.iloc[ts]\n",
        "        ytr, yvl = ytrain.iloc[tr], ytrain.iloc[ts]\n",
        "\n",
        "        encoder = OrdinalEncoder(cols=columns_to_encode)\n",
        "        Xtr = encoder.fit_transform(Xtr)\n",
        "        Xvl = encoder.transform(Xvl)\n",
        "\n",
        "        scale_pos_weight = ytr.value_counts()[0] / ytr.value_counts()[1]\n",
        "\n",
        "        mdl = XGBClassifier(n_estimators=1000, learning_rate=learning_rate,\n",
        "                            max_depth=max_depth, subsample=subsample, colsample_bytree=colsample_bytree,\n",
        "                            min_child_weight=min_child_weight, scale_pos_weight=scale_pos_weight,\n",
        "                            random_state=0, n_jobs=-1)\n",
        "        mdl.fit(Xtr, ytr)\n",
        "        p = mdl.predict_proba(Xvl)[:, 1]\n",
        "\n",
        "        avg_roc += roc_auc_score(yvl, p)\n",
        "\n",
        "        f1_66_th = np.percentile(p, 100 - 67)\n",
        "        avg_f1 += f1_score(yvl, p > f1_66_th)\n",
        "\n",
        "    avg_roc /= 5\n",
        "    avg_f1 /= 5\n",
        "    trial.set_user_attr('avg_f1', avg_f1)\n",
        "    print('avg roc:', avg_roc)\n",
        "    print('avg f1:', avg_f1)\n",
        "    return avg_roc\n",
        "\n",
        "study = optuna.create_study(direction='maximize')\n",
        "study.optimize(objective, n_trials=20)\n",
        "\n",
        "# Melhores hiperparâmetros encontrados\n",
        "best_params = study.best_trial.params\n",
        "print(\"Melhores hiperparâmetros:\", best_params)\n",
        "\n",
        "# Treinando o modelo final com os melhores hiperparâmetros\n",
        "# Divida os dados em treinamento e teste se você tiver um conjunto de teste\n",
        "X_train, X_test, y_train, y_test = train_test_split(Xtrain, ytrain, test_size=0.2, random_state=42, stratify=ytrain)\n",
        "\n",
        "# Codificando os dados\n",
        "encoder = OrdinalEncoder(cols=columns_to_encode)\n",
        "X_train_encoded = encoder.fit_transform(X_train)\n",
        "X_test_encoded = encoder.transform(X_test)\n",
        "\n",
        "# Ajustando a ponderação da classe\n",
        "scale_pos_weight = y_train.value_counts()[0] / y_train.value_counts()[1]\n",
        "\n",
        "# Treinando o modelo final\n",
        "final_model = XGBClassifier(n_estimators=1000, learning_rate=best_params['learning_rate'],\n",
        "                            max_depth=best_params['max_depth'], subsample=best_params['subsample'],\n",
        "                            colsample_bytree=best_params['colsample_bytree'],\n",
        "                            min_child_weight=best_params['min_child_weight'],\n",
        "                            scale_pos_weight=scale_pos_weight,\n",
        "                            random_state=0, n_jobs=-1)\n",
        "\n",
        "final_model.fit(X_train_encoded, y_train)\n",
        "\n",
        "# Avaliando o modelo no conjunto de teste\n",
        "predictions = final_model.predict_proba(X_test_encoded)[:, 1]\n",
        "roc = roc_auc_score(y_test, predictions)\n",
        "f1_threshold = np.percentile(predictions, 100 - 67)\n",
        "f1 = f1_score(y_test, predictions > f1_threshold)\n",
        "\n",
        "print(f\"ROC AUC no conjunto de teste: {roc}\")\n",
        "print(f\"F1 Score no conjunto de teste: {f1}\")\n"
      ],
      "metadata": {
        "colab": {
          "base_uri": "https://localhost:8080/"
        },
        "id": "flIdBHbfmkON",
        "outputId": "45a7392c-0071-4313-9851-4e9fa904110c"
      },
      "execution_count": 119,
      "outputs": [
        {
          "output_type": "stream",
          "name": "stderr",
          "text": [
            "[I 2024-05-22 09:34:30,739] A new study created in memory with name: no-name-b75ce5ef-1f0b-4177-a051-db9c35014cee\n",
            "[I 2024-05-22 09:34:34,594] Trial 0 finished with value: 1.0 and parameters: {'learning_rate': 0.006263248134158838, 'max_depth': 1, 'subsample': 0.9, 'colsample_bytree': 0.9, 'min_child_weight': 8}. Best is trial 0 with value: 1.0.\n"
          ]
        },
        {
          "output_type": "stream",
          "name": "stdout",
          "text": [
            "avg roc: 1.0\n",
            "avg f1: 0.499115179252479\n"
          ]
        },
        {
          "output_type": "stream",
          "name": "stderr",
          "text": [
            "[I 2024-05-22 09:34:37,125] Trial 1 finished with value: 1.0 and parameters: {'learning_rate': 0.009203630656613497, 'max_depth': 10, 'subsample': 0.8, 'colsample_bytree': 0.5, 'min_child_weight': 6}. Best is trial 0 with value: 1.0.\n"
          ]
        },
        {
          "output_type": "stream",
          "name": "stdout",
          "text": [
            "avg roc: 1.0\n",
            "avg f1: 0.4973913043478261\n"
          ]
        },
        {
          "output_type": "stream",
          "name": "stderr",
          "text": [
            "[I 2024-05-22 09:34:40,643] Trial 2 finished with value: 1.0 and parameters: {'learning_rate': 0.0026993436617498224, 'max_depth': 5, 'subsample': 0.5, 'colsample_bytree': 0.5, 'min_child_weight': 10}. Best is trial 0 with value: 1.0.\n"
          ]
        },
        {
          "output_type": "stream",
          "name": "stdout",
          "text": [
            "avg roc: 1.0\n",
            "avg f1: 0.4973913043478261\n"
          ]
        },
        {
          "output_type": "stream",
          "name": "stderr",
          "text": [
            "[I 2024-05-22 09:34:42,324] Trial 3 finished with value: 1.0 and parameters: {'learning_rate': 0.004148637171597391, 'max_depth': 7, 'subsample': 1.0, 'colsample_bytree': 1.0, 'min_child_weight': 3}. Best is trial 0 with value: 1.0.\n"
          ]
        },
        {
          "output_type": "stream",
          "name": "stdout",
          "text": [
            "avg roc: 1.0\n",
            "avg f1: 1.0\n"
          ]
        },
        {
          "output_type": "stream",
          "name": "stderr",
          "text": [
            "[I 2024-05-22 09:34:44,142] Trial 4 finished with value: 1.0 and parameters: {'learning_rate': 0.00236816634752028, 'max_depth': 6, 'subsample': 0.5, 'colsample_bytree': 0.7, 'min_child_weight': 7}. Best is trial 0 with value: 1.0.\n"
          ]
        },
        {
          "output_type": "stream",
          "name": "stdout",
          "text": [
            "avg roc: 1.0\n",
            "avg f1: 0.4973913043478261\n"
          ]
        },
        {
          "output_type": "stream",
          "name": "stderr",
          "text": [
            "[I 2024-05-22 09:34:45,415] Trial 5 finished with value: 1.0 and parameters: {'learning_rate': 0.07531830347568942, 'max_depth': 9, 'subsample': 0.5, 'colsample_bytree': 0.7, 'min_child_weight': 9}. Best is trial 0 with value: 1.0.\n"
          ]
        },
        {
          "output_type": "stream",
          "name": "stdout",
          "text": [
            "avg roc: 1.0\n",
            "avg f1: 0.4973913043478261\n"
          ]
        },
        {
          "output_type": "stream",
          "name": "stderr",
          "text": [
            "[I 2024-05-22 09:34:47,502] Trial 6 finished with value: 1.0 and parameters: {'learning_rate': 0.0021402358463076137, 'max_depth': 7, 'subsample': 0.7, 'colsample_bytree': 0.7, 'min_child_weight': 5}. Best is trial 0 with value: 1.0.\n"
          ]
        },
        {
          "output_type": "stream",
          "name": "stdout",
          "text": [
            "avg roc: 1.0\n",
            "avg f1: 0.4973913043478261\n"
          ]
        },
        {
          "output_type": "stream",
          "name": "stderr",
          "text": [
            "[I 2024-05-22 09:34:48,929] Trial 7 finished with value: 1.0 and parameters: {'learning_rate': 0.023644952864891277, 'max_depth': 3, 'subsample': 1.0, 'colsample_bytree': 0.8, 'min_child_weight': 1}. Best is trial 0 with value: 1.0.\n"
          ]
        },
        {
          "output_type": "stream",
          "name": "stdout",
          "text": [
            "avg roc: 1.0\n",
            "avg f1: 0.499115179252479\n"
          ]
        },
        {
          "output_type": "stream",
          "name": "stderr",
          "text": [
            "[I 2024-05-22 09:34:51,818] Trial 8 finished with value: 1.0 and parameters: {'learning_rate': 0.014157316701995602, 'max_depth': 2, 'subsample': 1.0, 'colsample_bytree': 0.9, 'min_child_weight': 4}. Best is trial 0 with value: 1.0.\n"
          ]
        },
        {
          "output_type": "stream",
          "name": "stdout",
          "text": [
            "avg roc: 1.0\n",
            "avg f1: 0.5429297220665964\n"
          ]
        },
        {
          "output_type": "stream",
          "name": "stderr",
          "text": [
            "[I 2024-05-22 09:34:54,111] Trial 9 finished with value: 1.0 and parameters: {'learning_rate': 0.0010927588598897034, 'max_depth': 2, 'subsample': 0.9, 'colsample_bytree': 0.6, 'min_child_weight': 2}. Best is trial 0 with value: 1.0.\n"
          ]
        },
        {
          "output_type": "stream",
          "name": "stdout",
          "text": [
            "avg roc: 1.0\n",
            "avg f1: 0.4982608695652174\n"
          ]
        },
        {
          "output_type": "stream",
          "name": "stderr",
          "text": [
            "[I 2024-05-22 09:34:55,419] Trial 10 finished with value: 1.0 and parameters: {'learning_rate': 0.04208332998028614, 'max_depth': 1, 'subsample': 0.7, 'colsample_bytree': 1.0, 'min_child_weight': 8}. Best is trial 0 with value: 1.0.\n"
          ]
        },
        {
          "output_type": "stream",
          "name": "stdout",
          "text": [
            "avg roc: 1.0\n",
            "avg f1: 0.5435676455289167\n"
          ]
        },
        {
          "output_type": "stream",
          "name": "stderr",
          "text": [
            "[I 2024-05-22 09:34:57,393] Trial 11 finished with value: 1.0 and parameters: {'learning_rate': 0.006700683096224239, 'max_depth': 10, 'subsample': 0.8, 'colsample_bytree': 0.5, 'min_child_weight': 6}. Best is trial 0 with value: 1.0.\n"
          ]
        },
        {
          "output_type": "stream",
          "name": "stdout",
          "text": [
            "avg roc: 1.0\n",
            "avg f1: 0.4973913043478261\n"
          ]
        },
        {
          "output_type": "stream",
          "name": "stderr",
          "text": [
            "[I 2024-05-22 09:34:58,805] Trial 12 finished with value: 1.0 and parameters: {'learning_rate': 0.010007614772255802, 'max_depth': 4, 'subsample': 0.8, 'colsample_bytree': 0.9, 'min_child_weight': 7}. Best is trial 0 with value: 1.0.\n"
          ]
        },
        {
          "output_type": "stream",
          "name": "stdout",
          "text": [
            "avg roc: 1.0\n",
            "avg f1: 0.4973913043478261\n"
          ]
        },
        {
          "output_type": "stream",
          "name": "stderr",
          "text": [
            "[I 2024-05-22 09:35:00,242] Trial 13 finished with value: 1.0 and parameters: {'learning_rate': 0.01812765042649006, 'max_depth': 9, 'subsample': 0.9, 'colsample_bytree': 0.8, 'min_child_weight': 6}. Best is trial 0 with value: 1.0.\n"
          ]
        },
        {
          "output_type": "stream",
          "name": "stdout",
          "text": [
            "avg roc: 1.0\n",
            "avg f1: 0.4973913043478261\n"
          ]
        },
        {
          "output_type": "stream",
          "name": "stderr",
          "text": [
            "[I 2024-05-22 09:35:01,748] Trial 14 finished with value: 1.0 and parameters: {'learning_rate': 0.006142692237693671, 'max_depth': 8, 'subsample': 0.9, 'colsample_bytree': 0.9, 'min_child_weight': 8}. Best is trial 0 with value: 1.0.\n"
          ]
        },
        {
          "output_type": "stream",
          "name": "stdout",
          "text": [
            "avg roc: 1.0\n",
            "avg f1: 0.4973913043478261\n"
          ]
        },
        {
          "output_type": "stream",
          "name": "stderr",
          "text": [
            "[I 2024-05-22 09:35:05,589] Trial 15 finished with value: 1.0 and parameters: {'learning_rate': 0.0076960470254215305, 'max_depth': 5, 'subsample': 0.6, 'colsample_bytree': 0.6, 'min_child_weight': 10}. Best is trial 0 with value: 1.0.\n"
          ]
        },
        {
          "output_type": "stream",
          "name": "stdout",
          "text": [
            "avg roc: 1.0\n",
            "avg f1: 0.4973913043478261\n"
          ]
        },
        {
          "output_type": "stream",
          "name": "stderr",
          "text": [
            "[I 2024-05-22 09:35:07,201] Trial 16 finished with value: 1.0 and parameters: {'learning_rate': 0.00422792006546665, 'max_depth': 1, 'subsample': 0.8, 'colsample_bytree': 0.6, 'min_child_weight': 5}. Best is trial 0 with value: 1.0.\n"
          ]
        },
        {
          "output_type": "stream",
          "name": "stdout",
          "text": [
            "avg roc: 1.0\n",
            "avg f1: 0.4973913043478261\n"
          ]
        },
        {
          "output_type": "stream",
          "name": "stderr",
          "text": [
            "[I 2024-05-22 09:35:08,566] Trial 17 finished with value: 1.0 and parameters: {'learning_rate': 0.032033053588280985, 'max_depth': 10, 'subsample': 0.9, 'colsample_bytree': 0.8, 'min_child_weight': 8}. Best is trial 0 with value: 1.0.\n"
          ]
        },
        {
          "output_type": "stream",
          "name": "stdout",
          "text": [
            "avg roc: 1.0\n",
            "avg f1: 0.4973913043478261\n"
          ]
        },
        {
          "output_type": "stream",
          "name": "stderr",
          "text": [
            "[I 2024-05-22 09:35:09,962] Trial 18 finished with value: 1.0 and parameters: {'learning_rate': 0.012379873145974045, 'max_depth': 4, 'subsample': 0.7, 'colsample_bytree': 0.9, 'min_child_weight': 7}. Best is trial 0 with value: 1.0.\n"
          ]
        },
        {
          "output_type": "stream",
          "name": "stdout",
          "text": [
            "avg roc: 1.0\n",
            "avg f1: 0.4982608695652173\n"
          ]
        },
        {
          "output_type": "stream",
          "name": "stderr",
          "text": [
            "[I 2024-05-22 09:35:12,167] Trial 19 finished with value: 1.0 and parameters: {'learning_rate': 0.004104578014948427, 'max_depth': 7, 'subsample': 0.6, 'colsample_bytree': 0.5, 'min_child_weight': 4}. Best is trial 0 with value: 1.0.\n"
          ]
        },
        {
          "output_type": "stream",
          "name": "stdout",
          "text": [
            "avg roc: 1.0\n",
            "avg f1: 0.4973913043478261\n",
            "Melhores hiperparâmetros: {'learning_rate': 0.006263248134158838, 'max_depth': 1, 'subsample': 0.9, 'colsample_bytree': 0.9, 'min_child_weight': 8}\n",
            "ROC AUC no conjunto de teste: 1.0\n",
            "F1 Score no conjunto de teste: 0.5\n"
          ]
        }
      ]
    },
    {
      "cell_type": "code",
      "source": [
        "import optuna.visualization as vis"
      ],
      "metadata": {
        "id": "hZF47tEpnWS9"
      },
      "execution_count": 114,
      "outputs": []
    },
    {
      "cell_type": "code",
      "source": [
        "fig = vis.plot_optimization_history(study)\n",
        "fig.show()"
      ],
      "metadata": {
        "colab": {
          "base_uri": "https://localhost:8080/",
          "height": 542
        },
        "id": "-vqsn-FlnQcP",
        "outputId": "08989c56-3e15-4f28-eb31-40efcb9842a4"
      },
      "execution_count": 115,
      "outputs": [
        {
          "output_type": "display_data",
          "data": {
            "text/html": [
              "<html>\n",
              "<head><meta charset=\"utf-8\" /></head>\n",
              "<body>\n",
              "    <div>            <script src=\"https://cdnjs.cloudflare.com/ajax/libs/mathjax/2.7.5/MathJax.js?config=TeX-AMS-MML_SVG\"></script><script type=\"text/javascript\">if (window.MathJax && window.MathJax.Hub && window.MathJax.Hub.Config) {window.MathJax.Hub.Config({SVG: {font: \"STIX-Web\"}});}</script>                <script type=\"text/javascript\">window.PlotlyConfig = {MathJaxConfig: 'local'};</script>\n",
              "        <script charset=\"utf-8\" src=\"https://cdn.plot.ly/plotly-2.24.1.min.js\"></script>                <div id=\"8a3f1349-7e09-4f96-b1f3-19e94273866b\" class=\"plotly-graph-div\" style=\"height:525px; width:100%;\"></div>            <script type=\"text/javascript\">                                    window.PLOTLYENV=window.PLOTLYENV || {};                                    if (document.getElementById(\"8a3f1349-7e09-4f96-b1f3-19e94273866b\")) {                    Plotly.newPlot(                        \"8a3f1349-7e09-4f96-b1f3-19e94273866b\",                        [{\"mode\":\"markers\",\"name\":\"Objective Value\",\"x\":[0,1,2,3,4,5,6,7,8,9,10,11,12,13,14,15,16,17,18,19],\"y\":[1.0,1.0,1.0,1.0,1.0,1.0,1.0,1.0,1.0,1.0,1.0,1.0,1.0,1.0,1.0,1.0,1.0,1.0,1.0,1.0],\"type\":\"scatter\"},{\"mode\":\"lines\",\"name\":\"Best Value\",\"x\":[0,1,2,3,4,5,6,7,8,9,10,11,12,13,14,15,16,17,18,19],\"y\":[1.0,1.0,1.0,1.0,1.0,1.0,1.0,1.0,1.0,1.0,1.0,1.0,1.0,1.0,1.0,1.0,1.0,1.0,1.0,1.0],\"type\":\"scatter\"},{\"marker\":{\"color\":\"#cccccc\"},\"mode\":\"markers\",\"name\":\"Infeasible Trial\",\"showlegend\":false,\"x\":[],\"y\":[],\"type\":\"scatter\"}],                        {\"title\":{\"text\":\"Optimization History Plot\"},\"xaxis\":{\"title\":{\"text\":\"Trial\"}},\"yaxis\":{\"title\":{\"text\":\"Objective Value\"}},\"template\":{\"data\":{\"histogram2dcontour\":[{\"type\":\"histogram2dcontour\",\"colorbar\":{\"outlinewidth\":0,\"ticks\":\"\"},\"colorscale\":[[0.0,\"#0d0887\"],[0.1111111111111111,\"#46039f\"],[0.2222222222222222,\"#7201a8\"],[0.3333333333333333,\"#9c179e\"],[0.4444444444444444,\"#bd3786\"],[0.5555555555555556,\"#d8576b\"],[0.6666666666666666,\"#ed7953\"],[0.7777777777777778,\"#fb9f3a\"],[0.8888888888888888,\"#fdca26\"],[1.0,\"#f0f921\"]]}],\"choropleth\":[{\"type\":\"choropleth\",\"colorbar\":{\"outlinewidth\":0,\"ticks\":\"\"}}],\"histogram2d\":[{\"type\":\"histogram2d\",\"colorbar\":{\"outlinewidth\":0,\"ticks\":\"\"},\"colorscale\":[[0.0,\"#0d0887\"],[0.1111111111111111,\"#46039f\"],[0.2222222222222222,\"#7201a8\"],[0.3333333333333333,\"#9c179e\"],[0.4444444444444444,\"#bd3786\"],[0.5555555555555556,\"#d8576b\"],[0.6666666666666666,\"#ed7953\"],[0.7777777777777778,\"#fb9f3a\"],[0.8888888888888888,\"#fdca26\"],[1.0,\"#f0f921\"]]}],\"heatmap\":[{\"type\":\"heatmap\",\"colorbar\":{\"outlinewidth\":0,\"ticks\":\"\"},\"colorscale\":[[0.0,\"#0d0887\"],[0.1111111111111111,\"#46039f\"],[0.2222222222222222,\"#7201a8\"],[0.3333333333333333,\"#9c179e\"],[0.4444444444444444,\"#bd3786\"],[0.5555555555555556,\"#d8576b\"],[0.6666666666666666,\"#ed7953\"],[0.7777777777777778,\"#fb9f3a\"],[0.8888888888888888,\"#fdca26\"],[1.0,\"#f0f921\"]]}],\"heatmapgl\":[{\"type\":\"heatmapgl\",\"colorbar\":{\"outlinewidth\":0,\"ticks\":\"\"},\"colorscale\":[[0.0,\"#0d0887\"],[0.1111111111111111,\"#46039f\"],[0.2222222222222222,\"#7201a8\"],[0.3333333333333333,\"#9c179e\"],[0.4444444444444444,\"#bd3786\"],[0.5555555555555556,\"#d8576b\"],[0.6666666666666666,\"#ed7953\"],[0.7777777777777778,\"#fb9f3a\"],[0.8888888888888888,\"#fdca26\"],[1.0,\"#f0f921\"]]}],\"contourcarpet\":[{\"type\":\"contourcarpet\",\"colorbar\":{\"outlinewidth\":0,\"ticks\":\"\"}}],\"contour\":[{\"type\":\"contour\",\"colorbar\":{\"outlinewidth\":0,\"ticks\":\"\"},\"colorscale\":[[0.0,\"#0d0887\"],[0.1111111111111111,\"#46039f\"],[0.2222222222222222,\"#7201a8\"],[0.3333333333333333,\"#9c179e\"],[0.4444444444444444,\"#bd3786\"],[0.5555555555555556,\"#d8576b\"],[0.6666666666666666,\"#ed7953\"],[0.7777777777777778,\"#fb9f3a\"],[0.8888888888888888,\"#fdca26\"],[1.0,\"#f0f921\"]]}],\"surface\":[{\"type\":\"surface\",\"colorbar\":{\"outlinewidth\":0,\"ticks\":\"\"},\"colorscale\":[[0.0,\"#0d0887\"],[0.1111111111111111,\"#46039f\"],[0.2222222222222222,\"#7201a8\"],[0.3333333333333333,\"#9c179e\"],[0.4444444444444444,\"#bd3786\"],[0.5555555555555556,\"#d8576b\"],[0.6666666666666666,\"#ed7953\"],[0.7777777777777778,\"#fb9f3a\"],[0.8888888888888888,\"#fdca26\"],[1.0,\"#f0f921\"]]}],\"mesh3d\":[{\"type\":\"mesh3d\",\"colorbar\":{\"outlinewidth\":0,\"ticks\":\"\"}}],\"scatter\":[{\"fillpattern\":{\"fillmode\":\"overlay\",\"size\":10,\"solidity\":0.2},\"type\":\"scatter\"}],\"parcoords\":[{\"type\":\"parcoords\",\"line\":{\"colorbar\":{\"outlinewidth\":0,\"ticks\":\"\"}}}],\"scatterpolargl\":[{\"type\":\"scatterpolargl\",\"marker\":{\"colorbar\":{\"outlinewidth\":0,\"ticks\":\"\"}}}],\"bar\":[{\"error_x\":{\"color\":\"#2a3f5f\"},\"error_y\":{\"color\":\"#2a3f5f\"},\"marker\":{\"line\":{\"color\":\"#E5ECF6\",\"width\":0.5},\"pattern\":{\"fillmode\":\"overlay\",\"size\":10,\"solidity\":0.2}},\"type\":\"bar\"}],\"scattergeo\":[{\"type\":\"scattergeo\",\"marker\":{\"colorbar\":{\"outlinewidth\":0,\"ticks\":\"\"}}}],\"scatterpolar\":[{\"type\":\"scatterpolar\",\"marker\":{\"colorbar\":{\"outlinewidth\":0,\"ticks\":\"\"}}}],\"histogram\":[{\"marker\":{\"pattern\":{\"fillmode\":\"overlay\",\"size\":10,\"solidity\":0.2}},\"type\":\"histogram\"}],\"scattergl\":[{\"type\":\"scattergl\",\"marker\":{\"colorbar\":{\"outlinewidth\":0,\"ticks\":\"\"}}}],\"scatter3d\":[{\"type\":\"scatter3d\",\"line\":{\"colorbar\":{\"outlinewidth\":0,\"ticks\":\"\"}},\"marker\":{\"colorbar\":{\"outlinewidth\":0,\"ticks\":\"\"}}}],\"scattermapbox\":[{\"type\":\"scattermapbox\",\"marker\":{\"colorbar\":{\"outlinewidth\":0,\"ticks\":\"\"}}}],\"scatterternary\":[{\"type\":\"scatterternary\",\"marker\":{\"colorbar\":{\"outlinewidth\":0,\"ticks\":\"\"}}}],\"scattercarpet\":[{\"type\":\"scattercarpet\",\"marker\":{\"colorbar\":{\"outlinewidth\":0,\"ticks\":\"\"}}}],\"carpet\":[{\"aaxis\":{\"endlinecolor\":\"#2a3f5f\",\"gridcolor\":\"white\",\"linecolor\":\"white\",\"minorgridcolor\":\"white\",\"startlinecolor\":\"#2a3f5f\"},\"baxis\":{\"endlinecolor\":\"#2a3f5f\",\"gridcolor\":\"white\",\"linecolor\":\"white\",\"minorgridcolor\":\"white\",\"startlinecolor\":\"#2a3f5f\"},\"type\":\"carpet\"}],\"table\":[{\"cells\":{\"fill\":{\"color\":\"#EBF0F8\"},\"line\":{\"color\":\"white\"}},\"header\":{\"fill\":{\"color\":\"#C8D4E3\"},\"line\":{\"color\":\"white\"}},\"type\":\"table\"}],\"barpolar\":[{\"marker\":{\"line\":{\"color\":\"#E5ECF6\",\"width\":0.5},\"pattern\":{\"fillmode\":\"overlay\",\"size\":10,\"solidity\":0.2}},\"type\":\"barpolar\"}],\"pie\":[{\"automargin\":true,\"type\":\"pie\"}]},\"layout\":{\"autotypenumbers\":\"strict\",\"colorway\":[\"#636efa\",\"#EF553B\",\"#00cc96\",\"#ab63fa\",\"#FFA15A\",\"#19d3f3\",\"#FF6692\",\"#B6E880\",\"#FF97FF\",\"#FECB52\"],\"font\":{\"color\":\"#2a3f5f\"},\"hovermode\":\"closest\",\"hoverlabel\":{\"align\":\"left\"},\"paper_bgcolor\":\"white\",\"plot_bgcolor\":\"#E5ECF6\",\"polar\":{\"bgcolor\":\"#E5ECF6\",\"angularaxis\":{\"gridcolor\":\"white\",\"linecolor\":\"white\",\"ticks\":\"\"},\"radialaxis\":{\"gridcolor\":\"white\",\"linecolor\":\"white\",\"ticks\":\"\"}},\"ternary\":{\"bgcolor\":\"#E5ECF6\",\"aaxis\":{\"gridcolor\":\"white\",\"linecolor\":\"white\",\"ticks\":\"\"},\"baxis\":{\"gridcolor\":\"white\",\"linecolor\":\"white\",\"ticks\":\"\"},\"caxis\":{\"gridcolor\":\"white\",\"linecolor\":\"white\",\"ticks\":\"\"}},\"coloraxis\":{\"colorbar\":{\"outlinewidth\":0,\"ticks\":\"\"}},\"colorscale\":{\"sequential\":[[0.0,\"#0d0887\"],[0.1111111111111111,\"#46039f\"],[0.2222222222222222,\"#7201a8\"],[0.3333333333333333,\"#9c179e\"],[0.4444444444444444,\"#bd3786\"],[0.5555555555555556,\"#d8576b\"],[0.6666666666666666,\"#ed7953\"],[0.7777777777777778,\"#fb9f3a\"],[0.8888888888888888,\"#fdca26\"],[1.0,\"#f0f921\"]],\"sequentialminus\":[[0.0,\"#0d0887\"],[0.1111111111111111,\"#46039f\"],[0.2222222222222222,\"#7201a8\"],[0.3333333333333333,\"#9c179e\"],[0.4444444444444444,\"#bd3786\"],[0.5555555555555556,\"#d8576b\"],[0.6666666666666666,\"#ed7953\"],[0.7777777777777778,\"#fb9f3a\"],[0.8888888888888888,\"#fdca26\"],[1.0,\"#f0f921\"]],\"diverging\":[[0,\"#8e0152\"],[0.1,\"#c51b7d\"],[0.2,\"#de77ae\"],[0.3,\"#f1b6da\"],[0.4,\"#fde0ef\"],[0.5,\"#f7f7f7\"],[0.6,\"#e6f5d0\"],[0.7,\"#b8e186\"],[0.8,\"#7fbc41\"],[0.9,\"#4d9221\"],[1,\"#276419\"]]},\"xaxis\":{\"gridcolor\":\"white\",\"linecolor\":\"white\",\"ticks\":\"\",\"title\":{\"standoff\":15},\"zerolinecolor\":\"white\",\"automargin\":true,\"zerolinewidth\":2},\"yaxis\":{\"gridcolor\":\"white\",\"linecolor\":\"white\",\"ticks\":\"\",\"title\":{\"standoff\":15},\"zerolinecolor\":\"white\",\"automargin\":true,\"zerolinewidth\":2},\"scene\":{\"xaxis\":{\"backgroundcolor\":\"#E5ECF6\",\"gridcolor\":\"white\",\"linecolor\":\"white\",\"showbackground\":true,\"ticks\":\"\",\"zerolinecolor\":\"white\",\"gridwidth\":2},\"yaxis\":{\"backgroundcolor\":\"#E5ECF6\",\"gridcolor\":\"white\",\"linecolor\":\"white\",\"showbackground\":true,\"ticks\":\"\",\"zerolinecolor\":\"white\",\"gridwidth\":2},\"zaxis\":{\"backgroundcolor\":\"#E5ECF6\",\"gridcolor\":\"white\",\"linecolor\":\"white\",\"showbackground\":true,\"ticks\":\"\",\"zerolinecolor\":\"white\",\"gridwidth\":2}},\"shapedefaults\":{\"line\":{\"color\":\"#2a3f5f\"}},\"annotationdefaults\":{\"arrowcolor\":\"#2a3f5f\",\"arrowhead\":0,\"arrowwidth\":1},\"geo\":{\"bgcolor\":\"white\",\"landcolor\":\"#E5ECF6\",\"subunitcolor\":\"white\",\"showland\":true,\"showlakes\":true,\"lakecolor\":\"white\"},\"title\":{\"x\":0.05},\"mapbox\":{\"style\":\"light\"}}}},                        {\"responsive\": true}                    ).then(function(){\n",
              "                            \n",
              "var gd = document.getElementById('8a3f1349-7e09-4f96-b1f3-19e94273866b');\n",
              "var x = new MutationObserver(function (mutations, observer) {{\n",
              "        var display = window.getComputedStyle(gd).display;\n",
              "        if (!display || display === 'none') {{\n",
              "            console.log([gd, 'removed!']);\n",
              "            Plotly.purge(gd);\n",
              "            observer.disconnect();\n",
              "        }}\n",
              "}});\n",
              "\n",
              "// Listen for the removal of the full notebook cells\n",
              "var notebookContainer = gd.closest('#notebook-container');\n",
              "if (notebookContainer) {{\n",
              "    x.observe(notebookContainer, {childList: true});\n",
              "}}\n",
              "\n",
              "// Listen for the clearing of the current output cell\n",
              "var outputEl = gd.closest('.output');\n",
              "if (outputEl) {{\n",
              "    x.observe(outputEl, {childList: true});\n",
              "}}\n",
              "\n",
              "                        })                };                            </script>        </div>\n",
              "</body>\n",
              "</html>"
            ]
          },
          "metadata": {}
        }
      ]
    },
    {
      "cell_type": "code",
      "source": [
        "import matplotlib.pyplot as plt\n",
        "from sklearn.metrics import roc_curve\n",
        "\n",
        "# Calculando a curva ROC\n",
        "fpr, tpr, _ = roc_curve(y_test, predictions)\n",
        "\n",
        "# Plotando a curva ROC\n",
        "plt.figure()\n",
        "plt.plot(fpr, tpr, color='darkorange', lw=2, label=f'ROC curve (area = {roc:.2f})')\n",
        "plt.plot([0, 1], [0, 1], color='navy', lw=2, linestyle='--')\n",
        "plt.xlim([0.0, 1.0])\n",
        "plt.ylim([0.0, 1.05])\n",
        "plt.xlabel('False Positive Rate')\n",
        "plt.ylabel('True Positive Rate')\n",
        "plt.title('Receiver Operating Characteristic')\n",
        "plt.legend(loc=\"lower right\")\n",
        "plt.show()\n"
      ],
      "metadata": {
        "colab": {
          "base_uri": "https://localhost:8080/",
          "height": 524
        },
        "id": "IPQuQHPcn4v4",
        "outputId": "5bd63ff1-3347-47e8-c1e3-7021954ba74e"
      },
      "execution_count": 116,
      "outputs": [
        {
          "output_type": "display_data",
          "data": {
            "text/plain": [
              "<Figure size 800x550 with 1 Axes>"
            ],
            "image/png": "[encoded data removed]"
          },
          "metadata": {}
        }
      ]
    },
    {
      "cell_type": "code",
      "source": [
        " #Extraindo os resultados dos ensaios de F1 Score\n",
        "f1_scores = [trial.user_attrs['avg_f1'] for trial in study.trials]\n",
        "\n",
        "# Plotando o gráfico da evolução do F1 Score\n",
        "plt.figure(figsize=(10, 6))\n",
        "plt.plot(f1_scores, marker='o')\n",
        "plt.xlabel('Ensaio')\n",
        "plt.ylabel('F1 Score')\n",
        "plt.title('Evolução do F1 Score ao longo dos Ensaios')\n",
        "plt.grid(True)\n",
        "plt.show()"
      ],
      "metadata": {
        "colab": {
          "base_uri": "https://localhost:8080/",
          "height": 562
        },
        "id": "GIDKVrOcpMGy",
        "outputId": "ce976985-bafe-4cca-d583-53a079842fec"
      },
      "execution_count": 120,
      "outputs": [
        {
          "output_type": "display_data",
          "data": {
            "text/plain": [
              "<Figure size 1000x600 with 1 Axes>"
            ],
            "image/png": "[encoded data removed]"
          },
          "metadata": {}
        }
      ]
    }
  ]
}